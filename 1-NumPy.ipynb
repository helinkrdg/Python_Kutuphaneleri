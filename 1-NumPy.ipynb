{
 "cells": [
  {
   "cell_type": "markdown",
   "id": "c2dcf07b-34c2-4285-bd72-2d257aeccbe5",
   "metadata": {},
   "source": [
    "# Veri Bilimi için Python Kütüphaneleri\n",
    "\n",
    "### - NumPy\n",
    "### - Pandas\n",
    "### - Matplotlib\n",
    "### - Seaborn\n",
    "### - Scikit-Learn\n",
    "\n",
    "# NumPy\n",
    "\n",
    "NumPy (Numerical Python), Python programlama dili için bir kütüphanedir ve bilimsel hesaplama ve veri işleme işlemlerinde kullanılır. NumPy, çok boyutlu (ndarray) dizileri, matematiksel işlemleri, rastgele sayı üretimi, lineer cebir, Fourier analizi ve diğer sayısal algoritmaları kolayca uygulama imkanı sağlar.\n",
    "\n",
    "NumPy, bilimsel ve mühendislik alanlarında yaygın olarak kullanılmaktadır. Örneğin, veri analizi, görüntü işleme, yapay zeka, makine öğrenmesi, hesaplamalı fizik, matematik, istatistik, biyoinformatik ve diğer birçok alanda kullanılmaktadır. NumPy, açık kaynaklı bir yazılım olduğu için dünya genelinde birçok araştırmacı ve geliştirici tarafından kullanılır ve geliştirilir."
   ]
  },
  {
   "cell_type": "markdown",
   "id": "3ba7eb33-634b-46aa-a0b0-b341c74240db",
   "metadata": {},
   "source": [
    "## 1. NumPy Temelleri\n",
    "- NumPy'nin tanımlanması ve kurulumu\n",
    "- NumPy dizileri (ndarray) oluşturma\n",
    "\n",
    "## 2. Dizi İşlemleri\n",
    "- Dizi şekilleri ve boyutları\n",
    "- Dizi elemanlarına erişim ve değiştirme\n",
    "- NumPy dizilerinde matematiksel işlemler (toplama, çıkarma, çarpma vb.)\n",
    "- Dizi işlemleri: Dizileri birleştirme, dizileri bölmek, sıralama, filtreleme vb.\n",
    "- Dizi işlemleri için uygulama örnekleri\n",
    "\n",
    "## 3. Dizilerde İndeksleme ve Dilimleme\n",
    "- Dizi elemanlarına erişim ve değiştirme\n",
    "- İndeksleme ve dilimleme işlemlerinin uygulanması\n",
    "- İndeksleme ve dilimleme için örnekler\n",
    "\n",
    "## 4. Dizi Şekilleri ve Boyutları\n",
    "- Dizi şekilleri ve boyutları\n",
    "- Dizi şekillerinin değiştirilmesi\n",
    "- Dizi boyutlarının değiştirilmesi\n",
    "- Yığın (stacking) işlemleri\n",
    "\n",
    "## 5. Dizi İşlemleri İçin Fonksiyonlar\n",
    "- Dizi işlemleri için matematiksel fonksiyonlar (exp, log, sin, cos, vb.)\n",
    "- Dizi işlemleri için istatistiksel fonksiyonlar (mean, median, std, var, vb.)\n",
    "- Dizi işlemleri için diğer kullanışlı fonksiyonlar (where, any, all, argmax, argmin, vb.)\n",
    "\n",
    "## 6. Dizilerde Dosya İşlemleri\n",
    "- NumPy dizilerini dosyalara kaydetmek\n",
    "- NumPy dizilerini dosyalardan yüklemek\n",
    "- Dosya işlemleri için örnekler\n",
    "\n",
    "## 7. Matris İşlemleri\n",
    "- Matrislerin oluşturulması\n",
    "- Matrislerin işlemleri (toplama, çıkarma, çarpma vb.)\n",
    "- Matris işlemleri için örnekler\n",
    "\n",
    "## 8. Broadcasting\n",
    "- NumPy dizilerinde yayılma işlemi (broadcasting)\n",
    "- Yayılma işlemi için örnekler\n",
    "\n",
    "## 9. Genel İşlemler\n",
    "- Dizi ve matris işlemlerinde performansı artırmak için NumPy kullanımı\n",
    "- NumPy ile hızlı hesaplama örnekleri\n",
    "- NumPy ve diğer Python kütüphaneleri arasındaki farklar\n",
    "\n",
    "## 10. Makine Öğrenmesi için NumPy Kullanımı\n",
    "- NumPy kullanımı ile veri işleme ve önişleme işlemleri\n",
    "- NumPy kullanımı ile matris çarpımı ve doğrusal cebir işlemleri\n",
    "- NumPy kullanımı ile veri analizi ve görselleştirme işlemleri\n",
    "- NumPy kullanımı ile makine öğrenmesi algoritmalarının uygulanması (regresyon, sınıflandırma, kümeleme, boyut indirgeme, vb.)\n",
    "- Makine öğrenmesi için NumPy ile veri manipülasyonu ve dönüştürme işlemleri."
   ]
  },
  {
   "cell_type": "markdown",
   "id": "e40c27c8-3500-4fea-9689-8c407621824d",
   "metadata": {},
   "source": [
    "## 1. NumPy Temelleri"
   ]
  },
  {
   "cell_type": "markdown",
   "id": "a07a62d2-580b-473f-8cf6-1eb4e2df9a95",
   "metadata": {},
   "source": [
    "### - NumPy'nin tanımlanması ve kurulumu"
   ]
  },
  {
   "cell_type": "markdown",
   "id": "0cc2c8a9-9321-4aaf-b2e2-f196b0d7ee4c",
   "metadata": {},
   "source": [
    "NumPy, standart Python dağıtımının bir parçası değildir. Ancak, NumPy, Python Anaconda dağıtımı gibi bazı Python dağıtımlarında varsayılan olarak yüklü olarak gelir. NumPy, birkaç farklı yöntemle kurulabilir.\n",
    "\n",
    "**1. pip kullanarak:**\n",
    "NumPy, pip aracılığıyla kolayca kurulabilir. Aşağıdaki komutu kullanarak NumPy'ı kurabilirsiniz:\n",
    "\n",
    "- pip install numpy\n",
    "\n",
    "**1. Conda kullanarak:**\n",
    "\n",
    "Anaconda veya Miniconda gibi bir Python dağıtımı kullanıyorsanız, NumPy'nin zaten yüklü olduğundan emin olun. NumPy'yı yüklemek istiyorsanız, aşağıdaki komutu kullanabilirsiniz:\n",
    "\n",
    "- conda install numpy\n",
    "\n",
    "**3. Kaynak kodunu derleyerek:**\n",
    "\n",
    "NumPy kaynak kodunu indirerek ve derleyerek de NumPy'ı kurabilirsiniz. NumPy'nin son sürümünü NumPy web sitesinden indirebilirsiniz.\n",
    "\n",
    "İndirme işleminden sonra, dosyayı açın ve aşağıdaki komutları kullanarak NumPy'yı derleyin ve kurun:\n",
    "\n",
    "- python setup.py build\n",
    "- python setup.py install\n",
    "\n",
    "\n",
    "NumPy, farklı platformlarda (Windows, macOS, Linux vb.) kullanılabilir ve kullanıcıların ihtiyaçlarına uygun bir şekilde yapılandırılabilir. Kurulum işlemi tamamlandıktan sonra, NumPy kullanıma hazır olacaktır.\n"
   ]
  },
  {
   "cell_type": "markdown",
   "id": "55ab8809-9a8e-42b4-9e16-e3caa6b27913",
   "metadata": {},
   "source": [
    "### - NumPy dizileri (ndarray) oluşturma\n",
    "\n",
    "NumPy'da ndarray (N-dimensional array) olarak adlandırılan, homojen veri tiplerine sahip çok boyutlu diziler kullanılır. Bu diziler, liste veya tuple gibi Python'un yerleşik veri tipleriyle benzerlik gösterse de, NumPy'nin sağladığı birçok avantajı da içerir.\n",
    "\n",
    "NumPy ndarray'leri oluşturmak için birkaç yöntem vardır. Bunlardan en sık kullanılanları aşağıdaki gibidir:"
   ]
  },
  {
   "cell_type": "markdown",
   "id": "6d7df5d3-3cde-42bd-b10b-d2920c95d519",
   "metadata": {},
   "source": [
    "**1. np.array():** Python listesini veya tuple'ı bir NumPy ndarray'ye dönüştürmek için kullanılır"
   ]
  },
  {
   "cell_type": "code",
   "execution_count": 12,
   "id": "79a96cf9-d99a-4573-9052-95c3c368128b",
   "metadata": {},
   "outputs": [
    {
     "name": "stdout",
     "output_type": "stream",
     "text": [
      "(5,)\n"
     ]
    }
   ],
   "source": [
    "import numpy as np\n",
    "\n",
    "# Python listesini NumPy ndarray'ye dönüştürme\n",
    "my_list = [1, 2, 3, 4, 5]\n",
    "arr = np.array(my_list)\n",
    "\n",
    "# NumPy ndarray'sinin boyutunu yazdırma\n",
    "print(arr.shape)  # çıktı: (5,)"
   ]
  },
  {
   "cell_type": "markdown",
   "id": "30eef63a-3785-4967-ad17-5a26764f54e9",
   "metadata": {},
   "source": [
    "**2. np.zeros():** Belirli bir boyutta sıfırlardan oluşan bir ndarray oluşturmak için kullanılır."
   ]
  },
  {
   "cell_type": "code",
   "execution_count": 13,
   "id": "b22a6a36-7969-4995-b53a-8a500a61a9d2",
   "metadata": {},
   "outputs": [
    {
     "name": "stdout",
     "output_type": "stream",
     "text": [
      "(3, 4)\n",
      "float64\n"
     ]
    }
   ],
   "source": [
    "import numpy as np\n",
    "\n",
    "# 3x4 boyutunda sıfırlardan oluşan bir NumPy ndarray'si oluşturma\n",
    "zeros_arr = np.zeros((3, 4))\n",
    "\n",
    "# NumPy ndarray'sinin boyutunu ve veri tipini yazdırma\n",
    "print(zeros_arr.shape)  # çıktı: (3, 4)\n",
    "print(zeros_arr.dtype)  # çıktı: float64"
   ]
  },
  {
   "cell_type": "markdown",
   "id": "24a0a34e-e7e7-4247-b243-6db5b7c6acc3",
   "metadata": {},
   "source": [
    "**3. np.ones():** Belirli bir boyutta birlerden oluşan bir ndarray oluşturmak için kullanılır."
   ]
  },
  {
   "cell_type": "code",
   "execution_count": 14,
   "id": "206a2acc-03b6-4010-abf5-709e00b94d9f",
   "metadata": {},
   "outputs": [
    {
     "name": "stdout",
     "output_type": "stream",
     "text": [
      "(2, 2)\n",
      "float64\n"
     ]
    }
   ],
   "source": [
    "import numpy as np\n",
    "\n",
    "# 2x2 boyutunda birlerden oluşan bir NumPy ndarray'si oluşturma\n",
    "ones_arr = np.ones((2, 2))\n",
    "\n",
    "# NumPy ndarray'sinin boyutunu ve veri tipini yazdırma\n",
    "print(ones_arr.shape)  # çıktı: (2, 2)\n",
    "print(ones_arr.dtype)  # çıktı: float64"
   ]
  },
  {
   "cell_type": "markdown",
   "id": "7175822a-9e1f-4064-b46b-bacf6ef716d7",
   "metadata": {},
   "source": [
    "**4. np.arange():** Belirli bir aralıkta eşit aralıklarla sayılar içeren bir ndarray oluşturmak için kullanılır."
   ]
  },
  {
   "cell_type": "code",
   "execution_count": 15,
   "id": "10696979-8fed-4ed7-8b71-11e9b6ead06a",
   "metadata": {},
   "outputs": [
    {
     "name": "stdout",
     "output_type": "stream",
     "text": [
      "(10,)\n"
     ]
    }
   ],
   "source": [
    "import numpy as np\n",
    "\n",
    "# 0'dan 9'a kadar olan sayıları içeren bir NumPy ndarray'si oluşturma\n",
    "range_arr = np.arange(10)\n",
    "\n",
    "# NumPy ndarray'sinin boyutunu yazdırma\n",
    "print(range_arr.shape)  # çıktı: (10,)"
   ]
  },
  {
   "cell_type": "markdown",
   "id": "e47d35f2-61ea-468a-84a4-d839414aef11",
   "metadata": {},
   "source": [
    "**5. np.linspace():** Belirli bir aralıkta belirtilen sayıda eşit aralıklarla sayılar içeren bir ndarray oluşturmak için kullanılır."
   ]
  },
  {
   "cell_type": "code",
   "execution_count": 18,
   "id": "bc1456b3-33d1-41f3-bb70-8b82cedceea2",
   "metadata": {},
   "outputs": [
    {
     "name": "stdout",
     "output_type": "stream",
     "text": [
      "(5,)\n"
     ]
    }
   ],
   "source": [
    "import numpy as np\n",
    "\n",
    "# 0 ile 1 arasında 5 adet sayı içeren bir NumPy ndarray'si oluşturma\n",
    "linspace_arr = np.linspace(0, 1, 5)\n",
    "\n",
    "# NumPy ndarray'sinin boyutunu yazdırma\n",
    "print(linspace_arr.shape)  # çıktı: (5,)"
   ]
  },
  {
   "cell_type": "markdown",
   "id": "33b49889-f342-48a0-a231-97c4769f3d7e",
   "metadata": {},
   "source": [
    "## 2. Dizi İşlemleri"
   ]
  },
  {
   "cell_type": "markdown",
   "id": "c01b92d3-6e78-4c64-aaae-637288561810",
   "metadata": {},
   "source": [
    "### - Dizi şekilleri ve boyutları\n",
    "\n",
    "NumPy dizileri (ndarrays) 1 boyutlu (vektörler) veya 2 boyutlu (matrisler) olabileceği gibi, 3 veya daha fazla boyutlu diziler de olabilir.\n",
    "\n",
    "Dizi boyutları, şekli (shape) niteliği ile belirtilir. Örneğin, aşağıdaki kod ile 2 boyutlu bir (3,4) şeklinde bir dizi oluşturabiliriz:"
   ]
  },
  {
   "cell_type": "code",
   "execution_count": 24,
   "id": "40b0c107-d304-43ee-98d4-7c3cf1f8f202",
   "metadata": {},
   "outputs": [
    {
     "name": "stdout",
     "output_type": "stream",
     "text": [
      "(3, 4)\n",
      "2\n",
      "(4, 3)\n",
      "12\n"
     ]
    }
   ],
   "source": [
    "import numpy as np\n",
    "\n",
    "arr = np.array([[1, 2, 3, 4],\n",
    "                [5, 6, 7, 8],\n",
    "                [9, 10, 11, 12]])\n",
    "\n",
    "# Dizi boyutları, şekli (shape) niteliği ile belirtilir. \n",
    "# Bu çıktı olarak (3, 4) döndürecektir, yani bu dizi 3 satır ve 4 sütuna sahiptir.\n",
    "print(arr.shape)\n",
    "\n",
    "# Dizi boyutu, ndim niteliği ile belirtilir. \n",
    "# Bu çıktı olarak 2 döndürecektir, yani bu dizi 2 boyutludur.\n",
    "print(arr.ndim)\n",
    "\n",
    "# Bir dizi yeniden şekillendirilirken, verilerin sıralaması değiştirilmeden bir boyuttan diğerine yeniden düzenlenir.\n",
    "# Bu çıktı olarak (4, 3) döndürecektir, yani bu dizi 4 satır ve 3 sütuna sahiptir.\n",
    "arr2 = arr.reshape((4, 3))\n",
    "print(arr2.shape)\n",
    "\n",
    "# Bir dizi boyutu, size niteliği ile belirtilir ve toplam eleman sayısını verir.\n",
    "print(arr.size)"
   ]
  },
  {
   "cell_type": "markdown",
   "id": "53e0264b-d7ba-42e6-a477-fef0211a83cc",
   "metadata": {},
   "source": [
    "### - Dizi elemanlarına erişim ve değiştirme\n",
    "\n",
    "NumPy dizilerindeki elemanlara erişmek için dizinin indeksini kullanmak yeterlidir. Ayrıca, dizinin dilimleme özelliği de kullanılabilir. \n",
    "\n",
    "Not: NumPy dizileri, Python listelerinin aksine değiştirilebilir (mutable) nesnelerdir. Yani, dizinin elemanlarına erişip değiştirdikten sonra orijinal dizi değişir."
   ]
  },
  {
   "cell_type": "code",
   "execution_count": 25,
   "id": "4449eaa9-dafe-407f-a8fe-eeb34240b912",
   "metadata": {},
   "outputs": [
    {
     "name": "stdout",
     "output_type": "stream",
     "text": [
      "1\n",
      "2\n",
      "5\n",
      "[2 3]\n",
      "[10  2  3  4  5]\n",
      "[10 20 30  4  5]\n"
     ]
    }
   ],
   "source": [
    "import numpy as np\n",
    "\n",
    "arr = np.array([1, 2, 3, 4, 5])\n",
    "\n",
    "#Bu dizinin ilk elemanına erişmek için indeks 0 kullanılır:\n",
    "print(arr[0]) # Output: 1\n",
    "\n",
    "# Dizinin ikinci elemanına erişmek için indeks 1 kullanılır:\n",
    "print(arr[1]) # Output: 2\n",
    "\n",
    "# Dizinin son elemanına erişmek için negatif indeks kullanılabilir:\n",
    "print(arr[-1]) # Output: 5\n",
    "\n",
    "# Dizinin ikinci ve üçüncü elemanlarına erişmek için dilimleme kullanılabilir:\n",
    "print(arr[1:3]) # Output: [2 3]\n",
    "\n",
    "# Dizinin elemanlarını değiştirmek için de aynı indeksleme ve dilimleme kullanılabilir. \n",
    "# Örneğin, dizinin ilk elemanını 10 ile değiştirelim:\n",
    "arr[0] = 10\n",
    "print(arr) # Output: [10  2  3  4  5]\n",
    "\n",
    "## Dizinin ikinci ve üçüncü elemanlarını 20 ve 30 ile değiştirelim:\n",
    "arr[1:3] = [20, 30]\n",
    "print(arr) # Output: [10 20 30  4  5]"
   ]
  },
  {
   "cell_type": "markdown",
   "id": "703b02be-4fcf-4437-b51a-9d99b1b49082",
   "metadata": {},
   "source": [
    "### - NumPy dizilerinde matematiksel işlemler (toplama, çıkarma, çarpma vb.)\n",
    "\n",
    "NumPy, dizi elemanları üzerinde matematiksel işlemler yapmak için bir dizi matematiksel fonksiyon sağlar."
   ]
  },
  {
   "cell_type": "code",
   "execution_count": 33,
   "id": "46d98085-6430-497f-8fe9-95548ca26a5a",
   "metadata": {},
   "outputs": [
    {
     "name": "stdout",
     "output_type": "stream",
     "text": [
      "Toplam Dizisi:\n",
      "[5 7 9]\n",
      "Çıkarma Dizisi:\n",
      "[-3 -3 -3]\n",
      "Çarpım Dizisi:\n",
      "[ 4 10 18]\n",
      "Bölüm Dizisi:\n",
      "[4.  2.5 2. ]\n",
      "Karekök Dizisi:\n",
      "[1.         1.41421356 1.73205081]\n"
     ]
    }
   ],
   "source": [
    "import numpy as np\n",
    "\n",
    "# Dizi oluştur\n",
    "arr1 = np.array([1, 2, 3])\n",
    "arr2 = np.array([4, 5, 6])\n",
    "\n",
    "# Toplama\n",
    "arr3 = arr1 + arr2\n",
    "print(\"Toplam Dizisi:\")\n",
    "print(arr3)\n",
    "\n",
    "# Çıkarma\n",
    "arr4 = arr1 - arr2\n",
    "print(\"Çıkarma Dizisi:\")\n",
    "print(arr4)\n",
    "\n",
    "# Çarpma\n",
    "arr5 = arr1 * arr2\n",
    "print(\"Çarpım Dizisi:\")\n",
    "print(arr5)\n",
    "\n",
    "# Bölme\n",
    "arr6 = arr2 / arr1\n",
    "print(\"Bölüm Dizisi:\")\n",
    "print(arr6)\n",
    "\n",
    "# Karekök alma\n",
    "arr7 = np.sqrt(arr1)\n",
    "print(\"Karekök Dizisi:\")\n",
    "print(arr7)"
   ]
  },
  {
   "cell_type": "markdown",
   "id": "1f1fb7ca-f5c2-4435-9b49-badf2c678cbf",
   "metadata": {},
   "source": [
    "### - Dizi işlemleri: Dizileri birleştirme, dizileri bölmek, sıralama, filtreleme vb."
   ]
  },
  {
   "cell_type": "markdown",
   "id": "f4b32868-63af-4d9b-869f-c3e9ac8e5b83",
   "metadata": {},
   "source": [
    "- **Dizileri Birleştirme:**\n",
    "\n",
    "NumPy, concatenate() fonksiyonu aracılığıyla bir veya daha fazla dizi birleştirmeye izin verir."
   ]
  },
  {
   "cell_type": "code",
   "execution_count": 28,
   "id": "7378e830-e14c-4f73-bbd8-7f149392e029",
   "metadata": {},
   "outputs": [
    {
     "name": "stdout",
     "output_type": "stream",
     "text": [
      "Birleştirilmiş Dizi:\n",
      "[[1 2]\n",
      " [3 4]\n",
      " [5 6]]\n"
     ]
    }
   ],
   "source": [
    "import numpy as np\n",
    "\n",
    "# Dizileri oluştur\n",
    "arr1 = np.array([[1, 2], [3, 4]])\n",
    "arr2 = np.array([[5, 6]])\n",
    "\n",
    "# Dizileri birleştir\n",
    "arr3 = np.concatenate((arr1, arr2), axis=0)\n",
    "print(\"Birleştirilmiş Dizi:\")\n",
    "print(arr3)\n"
   ]
  },
  {
   "cell_type": "markdown",
   "id": "da640b13-8dbd-43dd-8fcc-b883bc61a613",
   "metadata": {},
   "source": [
    "- **Dizileri Bölmek:**\n",
    "\n",
    "NumPy, split() fonksiyonu ile bir diziyi iki veya daha fazla dizide bölmek için kullanılabilir."
   ]
  },
  {
   "cell_type": "code",
   "execution_count": 29,
   "id": "c7f534f5-0de9-457a-9def-a158c859589f",
   "metadata": {},
   "outputs": [
    {
     "name": "stdout",
     "output_type": "stream",
     "text": [
      "Bölünmüş Diziler:\n",
      "[1 2]\n",
      "[3 4]\n",
      "[5 6]\n"
     ]
    }
   ],
   "source": [
    "import numpy as np\n",
    "\n",
    "# Dizi oluştur\n",
    "arr1 = np.array([1, 2, 3, 4, 5, 6])\n",
    "\n",
    "# Diziyi bölmek\n",
    "arr2, arr3, arr4 = np.split(arr1, [2, 4])\n",
    "print(\"Bölünmüş Diziler:\")\n",
    "print(arr2)\n",
    "print(arr3)\n",
    "print(arr4)\n"
   ]
  },
  {
   "cell_type": "markdown",
   "id": "aebd4831-e72d-48a5-87a4-479027335310",
   "metadata": {},
   "source": [
    "- **Sıralama:**\n",
    "\n",
    "NumPy, sort() fonksiyonu ile bir dizi elemanlarını sıralamak için kullanılabilir.\n"
   ]
  },
  {
   "cell_type": "code",
   "execution_count": 32,
   "id": "c00d819b-8f4f-49b5-a86f-726fb00b71ec",
   "metadata": {},
   "outputs": [
    {
     "name": "stdout",
     "output_type": "stream",
     "text": [
      "Sıralanmış Dizi:\n",
      "[0 1 2 3 4 5]\n",
      "Tersten Sıralanmış Dizi:\n",
      "[4 5 1 0 2 3]\n"
     ]
    }
   ],
   "source": [
    "import numpy as np\n",
    "\n",
    "# Dizi oluştur\n",
    "arr1 = np.array([3, 2, 0, 1, 5, 4])\n",
    "\n",
    "# Diziyi sıralamak\n",
    "arr2 = np.sort(arr1)\n",
    "print(\"Sıralanmış Dizi:\")\n",
    "print(arr2)\n",
    "\n",
    "# Bu dizinin elemanlarını ters sırayla almak için flip() fonksiyonunu kullanabiliriz:\n",
    "arr3 = np.flip(arr1)\n",
    "print(\"Tersten Sıralanmış Dizi:\")\n",
    "print(arr3)"
   ]
  },
  {
   "cell_type": "markdown",
   "id": "db426f28-7826-46cb-9f9f-d387da965b8d",
   "metadata": {},
   "source": [
    "- **Filtreleme:**\n",
    "\n",
    "NumPy, dizi elemanlarını filtrelemek için kullanılabilen where() fonksiyonuna sahiptir."
   ]
  },
  {
   "cell_type": "code",
   "execution_count": 31,
   "id": "3d2ddbb5-1502-4ae9-a5dc-34cfe997d71e",
   "metadata": {},
   "outputs": [
    {
     "name": "stdout",
     "output_type": "stream",
     "text": [
      "Filtrelenmiş Dizi:\n",
      "(array([3, 4], dtype=int64),)\n"
     ]
    }
   ],
   "source": [
    "import numpy as np\n",
    "\n",
    "# Dizi oluştur\n",
    "arr1 = np.array([1, 2, 3, 4, 5])\n",
    "\n",
    "# Filtreleme\n",
    "arr2 = np.where(arr1 > 3)\n",
    "print(\"Filtrelenmiş Dizi:\")\n",
    "print(arr2)\n"
   ]
  },
  {
   "cell_type": "markdown",
   "id": "8e159348-804e-4a64-bc3a-ab1767b2291f",
   "metadata": {},
   "source": [
    "### - Dizi işlemleri için uygulama örnekleri"
   ]
  },
  {
   "cell_type": "markdown",
   "id": "22623cc8-d482-499f-86bd-86e1d27fe1ea",
   "metadata": {},
   "source": [
    "- **Matematiksel işlemler**\n",
    "\n",
    "NumPy dizilerinde matematiksel işlemler yapmak için NumPy matematik fonksiyonları kullanılabilir. Örneğin:"
   ]
  },
  {
   "cell_type": "code",
   "execution_count": 34,
   "id": "2042ac93-4d8e-46c4-afbb-a3f1ba3ec75f",
   "metadata": {},
   "outputs": [
    {
     "name": "stdout",
     "output_type": "stream",
     "text": [
      "[5 7 9]\n",
      "[-3 -3 -3]\n",
      "[ 4 10 18]\n",
      "[0.25 0.4  0.5 ]\n",
      "[  1  32 729]\n"
     ]
    }
   ],
   "source": [
    "import numpy as np\n",
    "\n",
    "a = np.array([1, 2, 3])\n",
    "b = np.array([4, 5, 6])\n",
    "\n",
    "# Toplama\n",
    "c = a + b\n",
    "print(c)  # Output: [5 7 9]\n",
    "\n",
    "# Çıkarma\n",
    "c = a - b\n",
    "print(c)  # Output: [-3 -3 -3]\n",
    "\n",
    "# Çarpma\n",
    "c = a * b\n",
    "print(c)  # Output: [ 4 10 18]\n",
    "\n",
    "# Bölme\n",
    "c = a / b\n",
    "print(c)  # Output: [0.25 0.4  0.5 ]\n",
    "\n",
    "# Kuvvet\n",
    "c = np.power(a, b)\n",
    "print(c)  # Output: [  1  32 729]\n"
   ]
  },
  {
   "cell_type": "markdown",
   "id": "2bdfd99e-52dd-48bc-98b6-5a707df5dae2",
   "metadata": {},
   "source": [
    "- **Dizileri birleştirme**\n",
    "\n",
    "NumPy'de dizileri birleştirmek için ***concatenate()*** veya ***stack()*** fonksiyonları kullanılabilir. Örneğin:"
   ]
  },
  {
   "cell_type": "code",
   "execution_count": 37,
   "id": "6b6d1367-5969-4c74-8fa4-63274be8e82d",
   "metadata": {},
   "outputs": [
    {
     "name": "stdout",
     "output_type": "stream",
     "text": [
      "[1 2 3 4 5 6]\n",
      "[[1 4]\n",
      " [2 5]\n",
      " [3 6]]\n"
     ]
    }
   ],
   "source": [
    "import numpy as np\n",
    "\n",
    "a = np.array([1, 2, 3])\n",
    "b = np.array([4, 5, 6])\n",
    "\n",
    "# Birleştirme\n",
    "c = np.concatenate((a, b))\n",
    "print(c)  # Output: [1 2 3 4 5 6]\n",
    "\n",
    "# Dizileri yatay olarak birleştirme\n",
    "c = np.stack((a, b), axis=1)\n",
    "print(c)  # Output: [[1 4] [2 5] [3 6]]"
   ]
  },
  {
   "cell_type": "markdown",
   "id": "c75349db-70b2-48b0-a605-de20bd9c945f",
   "metadata": {},
   "source": [
    "- **Dizileri bölmek***\n",
    "\n",
    "NumPy'de bir dizi, belirtilen bir konumda bölünebilir. split() fonksiyonu, bir diziyi belirtilen konumda bölmenizi sağlar. Örneğin:"
   ]
  },
  {
   "cell_type": "code",
   "execution_count": 38,
   "id": "b6abe2e3-4b3c-4be0-8102-f8a2d9fea816",
   "metadata": {},
   "outputs": [
    {
     "name": "stdout",
     "output_type": "stream",
     "text": [
      "[1 2]\n",
      "[3 4 5 6]\n"
     ]
    }
   ],
   "source": [
    "import numpy as np\n",
    "\n",
    "a = np.array([1, 2, 3, 4, 5, 6])\n",
    "\n",
    "# Diziyi 2. indexten böl\n",
    "b, c = np.split(a, [2])\n",
    "\n",
    "print(b)  # Output: [1 2]\n",
    "print(c)  # Output: [3 4 5 6]\n"
   ]
  },
  {
   "cell_type": "markdown",
   "id": "4cfe068a-8444-4264-be84-0ebd7ea0337e",
   "metadata": {},
   "source": [
    "- **Sıralama ve filtreleme***\n",
    "\n",
    "NumPy'de sıralama işlemi yapmak için sort() fonksiyonu kullanılabilir. Ayrıca, NumPy dizilerinde filtreleme işlemi yapmak için mantıksal diziler kullanabilirsiniz. Örneğin:"
   ]
  },
  {
   "cell_type": "code",
   "execution_count": 39,
   "id": "38a93525-e0c9-470a-a855-8a36005aa487",
   "metadata": {},
   "outputs": [
    {
     "name": "stdout",
     "output_type": "stream",
     "text": [
      "[1 1 2 3 3 4 5 5 5 6 9]\n",
      "[9 6]\n"
     ]
    }
   ],
   "source": [
    "import numpy as np\n",
    "\n",
    "a = np.array([3, 1, 4, 1, 5, 9, 2, 6, 5, 3, 5])\n",
    "\n",
    "# Diziyi sırala\n",
    "b = np.sort(a)\n",
    "print(b)  # Output: [1 1 2 3 3 4 5 5 5 6 9]\n",
    "\n",
    "# Dizideki 5'den büyük elemanları filtrele\n",
    "c = a[a > 5]\n",
    "print(c)  # Output: [9 6]\n"
   ]
  },
  {
   "cell_type": "markdown",
   "id": "e66598d5-e051-4522-a2f4-aa9dab024e44",
   "metadata": {},
   "source": [
    "## - Dizilerde İndeksleme ve Dilimleme"
   ]
  },
  {
   "cell_type": "markdown",
   "id": "9b09b2ef-2da2-4b60-96c2-0ed161255b71",
   "metadata": {},
   "source": [
    "### Dizi elemanlarına erişim ve değiştirme"
   ]
  },
  {
   "cell_type": "markdown",
   "id": "138f5fe8-9af2-4f79-ac90-02ed270b66d7",
   "metadata": {},
   "source": [
    "- **İndeksleme:** Dizi elemanlarına erişmek veya değiştirmek için dizinin indis numarasını kullanabiliriz. İndeksleme sıfırdan başladığı için ilk elemanın indisi 0'dır."
   ]
  },
  {
   "cell_type": "code",
   "execution_count": 42,
   "id": "2f6d3231-5ba2-42f6-ac31-9e2198d1b90c",
   "metadata": {},
   "outputs": [
    {
     "name": "stdout",
     "output_type": "stream",
     "text": [
      "1\n",
      "3\n",
      "[1 6 3 4 5]\n"
     ]
    }
   ],
   "source": [
    "import numpy as np\n",
    "\n",
    "arr = np.array([1, 2, 3, 4, 5])\n",
    "\n",
    "# Dizi elemanlarına erişmek\n",
    "print(arr[0]) # 1\n",
    "print(arr[2]) # 3\n",
    "\n",
    "# Dizi elemanını değiştirmek \n",
    "arr[1] = 6\n",
    "print(arr) # [1 6 3 4 5]"
   ]
  },
  {
   "cell_type": "markdown",
   "id": "8487a4b6-f41b-4d46-ac1b-2b2742e4ecd0",
   "metadata": {},
   "source": [
    "- **Dilimleme: Dilimleme (slicing):** NumPy dizisinde bir aralık belirleyerek alt küme oluşturmamıza olanak tanır. Aşağıdaki örnekte, bir dizi üzerindeki ikinci ve dördüncü elemanları seçiyoruz."
   ]
  },
  {
   "cell_type": "code",
   "execution_count": 43,
   "id": "ec4fef4a-85b8-42ff-a233-4415fb13c0d2",
   "metadata": {},
   "outputs": [
    {
     "name": "stdout",
     "output_type": "stream",
     "text": [
      "[2 3 4]\n",
      "[1 6 7 8 5]\n"
     ]
    }
   ],
   "source": [
    "import numpy as np\n",
    "\n",
    "arr = np.array([1, 2, 3, 4, 5])\n",
    "print(arr[1:4]) # [2 3 4]\n",
    "\n",
    "arr[1:4] = np.array([6, 7, 8])\n",
    "print(arr) # [1 6 7 8 5]"
   ]
  },
  {
   "cell_type": "markdown",
   "id": "91a4fb82-d7df-496c-ad20-19d8697ce49c",
   "metadata": {},
   "source": [
    "- **Maskeleme :** Bir dizi üzerinde belirli bir koşulu sağlayan elemanları seçmemize olanak tanır. Koşul, bir dizi ile aynı şekle sahip bir bool dizisi olmalıdır. Aşağıdaki örnekte, 3'ten büyük olan elemanları seçiyoruz."
   ]
  },
  {
   "cell_type": "code",
   "execution_count": 44,
   "id": "9dc08a2f-00a3-427f-b6e8-0ea0d329b00f",
   "metadata": {},
   "outputs": [
    {
     "name": "stdout",
     "output_type": "stream",
     "text": [
      "[False False False  True  True]\n",
      "[4 5]\n",
      "[ 1  2  3  9 10]\n"
     ]
    }
   ],
   "source": [
    "import numpy as np\n",
    "\n",
    "arr = np.array([1, 2, 3, 4, 5])\n",
    "mask = arr > 3\n",
    "print(mask) # [False False False  True  True]\n",
    "\n",
    "print(arr[mask]) # [4 5]\n",
    "\n",
    "arr[mask] = np.array([9, 10])\n",
    "print(arr) # [1 2 3 9 10]\n"
   ]
  },
  {
   "cell_type": "markdown",
   "id": "cea1dabe-5060-4344-8a94-537d18f29c83",
   "metadata": {},
   "source": [
    "- **Fancy indeksleme:** Fancy indeksleme, bir NumPy dizisi üzerinde birden fazla elemanın seçilmesine olanak tanır. Bu işlem için bir indeks listesi kullanılır. Aşağıdaki örnekte, bir dizi üzerindeki 0., 2. ve 4. elemanları seçiyoruz."
   ]
  },
  {
   "cell_type": "code",
   "execution_count": 45,
   "id": "62ea859d-7f3c-45ba-835d-b8ba1d28515a",
   "metadata": {},
   "outputs": [
    {
     "name": "stdout",
     "output_type": "stream",
     "text": [
      "[1 3 5]\n",
      "[6 2 7 4 8]\n"
     ]
    }
   ],
   "source": [
    "import numpy as np\n",
    "\n",
    "arr = np.array([1, 2, 3, 4, 5])\n",
    "indices = [0, 2, 4]\n",
    "print(arr[indices]) # [1 3 5]\n",
    "\n",
    "arr[indices] = np.array([6, 7, 8])\n",
    "print(arr) # [6 2 7 4 8]"
   ]
  },
  {
   "cell_type": "markdown",
   "id": "d97d5411-57b5-4122-8552-feb9bb9fe1de",
   "metadata": {},
   "source": [
    "### İndeksleme ve dilimleme işlemlerinin uygulanması\n",
    "\n",
    "İndeksleme ve dilimleme işlemleri, bir dizinin belli bir elemanına erişmek veya bir alt dizisini seçmek için kullanılan işlemlerdir.\n",
    "\n",
    "İndeksleme işlemi, bir dizinin belli bir elemanına doğrudan erişmek için kullanılır. Dizi elemanlarına sıfırdan başlayan bir indeks numarası verilir ve bu indeks numarası kullanılarak elemana erişilir.\n",
    "\n",
    "Dilimleme işlemi ise, bir dizinin bir alt dizisini seçmek için kullanılır. Dilimleme işlemi için bir başlangıç ve bir bitiş indeksi belirlenir ve belirlenen indeksler arasındaki elemanlar seçilir. Bu işlemle, dizinin bir alt kümesi oluşturulur."
   ]
  },
  {
   "cell_type": "code",
   "execution_count": 46,
   "id": "bcfda4d1-43d9-4868-97c6-35a505d9c6d9",
   "metadata": {},
   "outputs": [
    {
     "name": "stdout",
     "output_type": "stream",
     "text": [
      "1\n",
      "5\n",
      "[2 3]\n",
      "[1 2 3]\n",
      "[4 5]\n",
      "[1 2 3]\n",
      "6\n",
      "[[2 3]\n",
      " [5 6]]\n"
     ]
    }
   ],
   "source": [
    "import numpy as np\n",
    "\n",
    "# 1D dizi oluşturma\n",
    "arr = np.array([1, 2, 3, 4, 5])\n",
    "\n",
    "# Birinci elemana erişim\n",
    "print(arr[0])  # Output: 1\n",
    "\n",
    "# Son elemana erişim\n",
    "print(arr[-1])  # Output: 5\n",
    "\n",
    "# İkinci ve üçüncü elemanlara erişim\n",
    "print(arr[1:3])  # Output: [2, 3]\n",
    "\n",
    "# Dizinin başlangıcından üçüncü elemana kadar erişim\n",
    "print(arr[:3])  # Output: [1, 2, 3]\n",
    "\n",
    "# Dördüncü elemandan dizinin sonuna kadar erişim\n",
    "print(arr[3:])  # Output: [4, 5]\n",
    "\n",
    "# 2D dizi oluşturma\n",
    "arr2d = np.array([[1, 2, 3], [4, 5, 6], [7, 8, 9]])\n",
    "\n",
    "# İlk satıra erişim\n",
    "print(arr2d[0])  # Output: [1, 2, 3]\n",
    "\n",
    "# İkinci satırın üçüncü elemanına erişim\n",
    "print(arr2d[1, 2])  # Output: 6\n",
    "\n",
    "# İlk iki satır ve son iki sütuna erişim\n",
    "print(arr2d[:2, 1:])  # Output: [[2, 3], [5, 6]]\n"
   ]
  },
  {
   "cell_type": "markdown",
   "id": "094e2748-4789-40fa-b6d6-572d74c61294",
   "metadata": {},
   "source": [
    "Yukarıdaki örnekler, 1D ve 2D NumPy dizilerinin farklı elemanlarına nasıl erişileceğini ve dilimleneceğini göstermektedir. NumPy dizileri, dilimleme işlemlerinde oldukça esnektir ve ileri düzey indeksleme yöntemleriyle birlikte kullanıldığında, veri manipülasyonu ve analizinde oldukça güçlü bir araçtır."
   ]
  },
  {
   "cell_type": "markdown",
   "id": "5abc2052-4499-43c4-9666-4873827ee447",
   "metadata": {},
   "source": [
    "### İndeksleme ve dilimleme için örnekler"
   ]
  },
  {
   "cell_type": "code",
   "execution_count": 48,
   "id": "27762582-25c7-4dda-a628-b2d0af77ac7e",
   "metadata": {},
   "outputs": [
    {
     "name": "stdout",
     "output_type": "stream",
     "text": [
      "1\n",
      "7\n",
      "12\n",
      "[2 3]\n",
      "[ 3  7 11]\n",
      "[[ 6  7]\n",
      " [10 11]]\n",
      "[[ 1  2 13  4]\n",
      " [ 5  6 14  8]\n",
      " [ 9 10 15 12]]\n",
      "[[ 2 13]\n",
      " [ 6 14]\n",
      " [10 15]]\n"
     ]
    }
   ],
   "source": [
    "import numpy as np\n",
    "\n",
    "# 3x4 boyutunda bir numpy dizisi oluşturalım\n",
    "arr = np.array([[1, 2, 3, 4],\n",
    "                [5, 6, 7, 8],\n",
    "                [9, 10, 11, 12]])\n",
    "\n",
    "# İndeksleme örneği\n",
    "print(arr[0, 0])  # 1\n",
    "print(arr[1, 2])  # 7\n",
    "print(arr[2, -1])  # 12\n",
    "\n",
    "# Dilimleme örneği\n",
    "print(arr[0, 1:3])  # [2 3]\n",
    "print(arr[:, 2])  # [ 3  7 11]\n",
    "print(arr[1:, 1:3])  # [[ 6  7]\n",
    "                     #  [10 11]]\n",
    "\n",
    "# Dilimleme ile eleman değiştirme örneği\n",
    "arr[:, 2] = [13, 14, 15]  # 3. sütunu [13, 14, 15] ile değiştirir\n",
    "print(arr)\n",
    "\n",
    "# Yeni bir dizi oluşturma örneği\n",
    "new_arr = arr[:, 1:3].copy()  # [2 3], [6 7], [10 11] elemanlarını içeren yeni bir dizi oluşturur\n",
    "print(new_arr)\n"
   ]
  },
  {
   "cell_type": "markdown",
   "id": "8807a38c-59d0-4ca1-9084-25faffa20c64",
   "metadata": {},
   "source": [
    "### - Makine öğrenmesi için NumPy ile veri manipülasyonu ve dönüştürme işlemleri.\n",
    "\n",
    "Makine öğrenmesi için NumPy, veri manipülasyonu ve dönüştürme işlemlerini kolayca yapmamızı sağlar. Veri manipülasyonu, veri setlerindeki bilgileri düzenlemek, dönüştürmek, birleştirmek ve temizlemek gibi işlemleri içerir. Bu işlemler genellikle, veri setlerini makine öğrenmesi modellerine uygun hale getirmek için yapılır.\n",
    "\n",
    "NumPy, çok boyutlu dizileri kullanarak veri manipülasyonunu kolaylaştırır. Veri setleri, NumPy dizileri olarak temsil edilebilir ve bu diziler üzerinde işlemler yapılabilir. Örneğin, veri setindeki her bir özellik bir NumPy dizisi olarak temsil edilebilir.\n",
    "\n",
    "Veri dönüştürme işlemleri, veri setlerinin makine öğrenmesi modellerine uygun hale getirilmesini sağlar. Örneğin, kategorik verilerin sayısal verilere dönüştürülmesi veya veri setlerinin normalleştirilmesi gibi işlemler veri dönüştürme işlemlerine örnek olarak verilebilir.\n",
    "\n",
    "NumPy, veri manipülasyonu ve dönüştürme işlemlerinde çeşitli fonksiyonlar ve yöntemler sağlar. Bunlar arasında;\n",
    "\n",
    "- **reshape:** Bir dizinin boyutunu değiştirmek için kullanılır. Örneğin, 1 boyutlu bir diziyi 2 boyutlu bir diziye dönüştürmek isterseniz, kullanabilirsiniz.\n",
    "- **concatenate:** İki veya daha fazla diziyi birleştirmek için kullanılır. axis parametresi ile birleştirme yönü belirtilebilir.\n",
    "- **split:** Bir diziyi parçalara ayırmak için kullanılır. split fonksiyonu, bölünecek diziyi ve bölünme noktalarının dizisini alır. Örneğin, bir diziyi üç parçaya ayırmak için [n1, n2] gibi - bir bölünme noktası dizisi kullanabilirsiniz.\n",
    "- **transpose:** Bir dizinin transpozunu almak için kullanılır. Yani, bir matrisin satırlarını sütunlarına ve sütunlarını satırlarına dönüştürür.\n",
    "- **flatten:** Bir dizinin tüm elemanlarını tek boyutlu hale getirmek için kullanılır.\n",
    "- **ravel:** flatten işlevi ile aynı işi yapar, ancak orijinal diziye yapılan değişikliklerin daha olası olduğu bir görünüm döndürür.\n",
    "- **unique:** Tekrar eden elemanları bir dizi içerisinden çıkarmak için kullanılır.\n",
    "- **isnan:** NaN (Not a Number) değerleri içeren bir dizi içindeki NaN değerlerinin yerini belirlemek için kullanılır.\n",
    "- **argmax:** Bir dizideki en büyük elemanın indisini döndürür.\n",
    "- **argmin:** Bir dizideki en küçük elemanın indisini döndürür.\n",
    "- **where:** Koşula uyan elemanların yerine belirli bir değeri atamak için kullanılır.\n",
    "- **clip:** Bir dizideki değerleri, belirli bir aralıkta sınırlamak için kullanılır.\n",
    "- **mean:** Bir dizinin aritmetik ortalamasını hesaplar.\n",
    "- **std:** Bir dizinin standart sapmasını hesaplar.\n",
    "- **min:** Bir dizinin en küçük elemanını döndürür.\n",
    "- **max:** Bir dizinin en büyük elemanını döndürür.\n",
    "- **median:** Bir dizinin ortanca elemanını döndürür. \n",
    "gibi fonksiyonlar yer alır. Bu fonksiyonlar, veri setlerini manipüle etmek ve dönüştürmek için kullanılabilir."
   ]
  },
  {
   "cell_type": "code",
   "execution_count": null,
   "id": "799c34d1-8fbe-487a-a6c3-acd18250ec82",
   "metadata": {},
   "outputs": [],
   "source": []
  },
  {
   "cell_type": "code",
   "execution_count": 9,
   "id": "276aa8e1-b280-412f-92a0-54f8596a7737",
   "metadata": {},
   "outputs": [
    {
     "name": "stdout",
     "output_type": "stream",
     "text": [
      "Reshaped Array:\n",
      "[[1 2 3]\n",
      " [4 5 6]]\n",
      "Concatenated Array:\n",
      "[[1 2 5 6]\n",
      " [3 4 7 8]]\n",
      "Split Arrays:\n",
      "[1 2 3]\n",
      "[4 5 6]\n",
      "Transposed Array:\n",
      "[[1 3 5]\n",
      " [2 4 6]]\n",
      "Flattened and Raveled Arrays:\n",
      "[1 2 5 6 3 4 7 8]\n",
      "[1 2 5 6 3 4 7 8]\n",
      "Unique Values:\n",
      "[1 2 3 4 5]\n",
      "Is NaN:\n",
      "[False False  True False False]\n",
      "Argmax and Argmin:\n",
      "5\n",
      "0\n",
      "Where:\n",
      "[0 0 3 4 5]\n",
      "Clipped:\n",
      "[2 2 3 4 4]\n",
      "Mean, Standard Deviation, Min, Max, and Median:\n",
      "3.0\n",
      "1.4142135623730951\n",
      "1\n",
      "5\n",
      "3.0\n"
     ]
    }
   ],
   "source": [
    "import numpy as np\n",
    "\n",
    "# reshape\n",
    "arr1 = np.array([1, 2, 3, 4, 5, 6])\n",
    "arr2 = arr1.reshape((2, 3))\n",
    "print(\"Reshaped Array:\")\n",
    "print(arr2)\n",
    "\n",
    "# concatenate\n",
    "arr3 = np.array([[1, 2], [3, 4]])\n",
    "arr4 = np.array([[5, 6], [7, 8]])\n",
    "arr5 = np.concatenate((arr3, arr4), axis=1)\n",
    "print(\"Concatenated Array:\")\n",
    "print(arr5)\n",
    "\n",
    "# split\n",
    "arr6 = np.array([1, 2, 3, 4, 5, 6])\n",
    "arr7, arr8 = np.split(arr6, [3])\n",
    "print(\"Split Arrays:\")\n",
    "print(arr7)\n",
    "print(arr8)\n",
    "\n",
    "# transpose\n",
    "arr9 = np.array([[1, 2], [3, 4], [5, 6]])\n",
    "arr10 = np.transpose(arr9)\n",
    "print(\"Transposed Array:\")\n",
    "print(arr10)\n",
    "\n",
    "# flatten and ravel\n",
    "arr11 = np.array([[1, 2], [3, 4]])\n",
    "arr12 = np.array([[5, 6], [7, 8]])\n",
    "arr13 = np.concatenate((arr11, arr12), axis=1)\n",
    "arr14 = np.ravel(arr13)\n",
    "arr15 = arr13.flatten()\n",
    "print(\"Flattened and Raveled Arrays:\")\n",
    "print(arr14)\n",
    "print(arr15)\n",
    "\n",
    "# unique\n",
    "arr16 = np.array([1, 2, 2, 3, 4, 4, 4, 5, 5])\n",
    "arr17 = np.unique(arr16)\n",
    "print(\"Unique Values:\")\n",
    "print(arr17)\n",
    "\n",
    "# isnan\n",
    "arr18 = np.array([1, 2, np.nan, 4, 5])\n",
    "arr19 = np.isnan(arr18)\n",
    "print(\"Is NaN:\")\n",
    "print(arr19)\n",
    "\n",
    "# argmax and argmin\n",
    "arr20 = np.array([1, 4, 2, 8, 3, 9])\n",
    "arr21 = np.argmax(arr20)\n",
    "arr22 = np.argmin(arr20)\n",
    "print(\"Argmax and Argmin:\")\n",
    "print(arr21)\n",
    "print(arr22)\n",
    "\n",
    "# where\n",
    "arr23 = np.array([1, 2, 3, 4, 5])\n",
    "arr24 = np.where(arr23 < 3, 0, arr23)\n",
    "print(\"Where:\")\n",
    "print(arr24)\n",
    "\n",
    "# clip\n",
    "arr25 = np.array([1, 2, 3, 4, 5])\n",
    "arr26 = np.clip(arr25, 2, 4)\n",
    "print(\"Clipped:\")\n",
    "print(arr26)\n",
    "\n",
    "# mean, std, min, max, and median\n",
    "arr27 = np.array([1, 2, 3, 4, 5])\n",
    "mean = np.mean(arr27)\n",
    "std = np.std(arr27)\n",
    "min_val = np.min(arr27)\n",
    "max_val = np.max(arr27)\n",
    "median = np.median(arr27)\n",
    "print(\"Mean, Standard Deviation, Min, Max, and Median:\")\n",
    "print(mean)\n",
    "print(std)\n",
    "print(min_val)\n",
    "print(max_val)\n",
    "print(median)\n"
   ]
  },
  {
   "cell_type": "code",
   "execution_count": 2,
   "id": "6942bdf5-d493-4228-906b-00b635fcfff0",
   "metadata": {},
   "outputs": [],
   "source": [
    "#!pip install numpy\n",
    "import numpy as np"
   ]
  },
  {
   "cell_type": "markdown",
   "id": "72d55b47-f8e0-4810-99cf-aeadf7e2dacb",
   "metadata": {},
   "source": [
    "### NumPy Dizileri (array) Oluşturma:"
   ]
  },
  {
   "cell_type": "code",
   "execution_count": 4,
   "id": "47023744-9880-4c41-afd2-b360f14794fc",
   "metadata": {},
   "outputs": [
    {
     "name": "stdout",
     "output_type": "stream",
     "text": [
      "[1 2 3 4 5 6]\n",
      "<class 'numpy.ndarray'>\n",
      "[1 2 3 4 5]\n",
      "[[1 2 3]\n",
      " [4 5 6]]\n"
     ]
    }
   ],
   "source": [
    "a = np.array([1,2,3,4,5,6])\n",
    "print(a)\n",
    "print(type(a))\n",
    "\n",
    "# 1D dizi oluşturma\n",
    "arr_1d = np.array([1, 2, 3, 4, 5])\n",
    "\n",
    "print(arr_1d)\n",
    "\n",
    "# 2D dizi oluşturma\n",
    "arr_2d = np.array([[1, 2, 3], [4, 5, 6]])\n",
    "\n",
    "print(arr_2d)"
   ]
  },
  {
   "cell_type": "code",
   "execution_count": 13,
   "id": "408b92bd-1237-406d-b472-b6da2471dc3d",
   "metadata": {},
   "outputs": [
    {
     "name": "stdout",
     "output_type": "stream",
     "text": [
      "[3 5 6 7 8 9]\n",
      "[3.14   5.     6.     7.     8.     9.3265]\n"
     ]
    }
   ],
   "source": [
    "b = np.array([3.14, 5, 6, 7, 8, 9.3265], dtype=int)\n",
    "print(b)\n",
    "c = np.array([3.14, 5, 6, 7, 8, 9.3265], dtype=\"float32\")\n",
    "print(c)"
   ]
  },
  {
   "cell_type": "markdown",
   "id": "3b91439f-a781-4f93-b1d8-5cf1ec4024ea",
   "metadata": {},
   "source": [
    "### Sıfırdan Array oluşturmak\n",
    "NumPy kütüphanesi ile bir dizi veya matris oluşturmak oldukça kolaydır. Yeni bir NumPy dizisi oluşturmak için numpy.array() fonksiyonunu kullanabilirsiniz. Aşağıda birkaç örnek gösterilmiştir:"
   ]
  },
  {
   "cell_type": "code",
   "execution_count": 14,
   "id": "ca5e1ee9-e180-417b-8f3f-c4ec34584a2d",
   "metadata": {},
   "outputs": [
    {
     "name": "stdout",
     "output_type": "stream",
     "text": [
      "[0. 0. 0. 0. 0.]\n",
      "[1. 1. 1.]\n",
      "[[0. 0. 0.]\n",
      " [0. 0. 0.]]\n",
      "[[0.71680256 0.73300518 0.32204628]\n",
      " [0.29546463 0.52924008 0.17507908]]\n"
     ]
    }
   ],
   "source": [
    "import numpy as np\n",
    "\n",
    "# Sıfırlardan oluşan bir 1D dizi oluşturun\n",
    "zeros = np.zeros(5)\n",
    "print(zeros)  # [0. 0. 0. 0. 0.]\n",
    "\n",
    "# Birlerden oluşan bir 1D dizi oluşturun\n",
    "ones = np.ones(3)\n",
    "print(ones)  # [1. 1. 1.]\n",
    "\n",
    "# Belirtilen bir şekle sahip sıfırlardan oluşan bir dizi oluşturun\n",
    "zeros_2d = np.zeros((2, 3))\n",
    "print(zeros_2d)  \n",
    "# [[0. 0. 0.]\n",
    "#  [0. 0. 0.]]\n",
    "\n",
    "# Belirtilen bir şekle sahip rastgele sayılardan oluşan bir dizi oluşturun\n",
    "random = np.random.rand(2, 3)\n",
    "print(random)\n",
    "# [[0.7840484  0.25539245 0.41152297]\n",
    "#  [0.36973662 0.45695694 0.16317017]]"
   ]
  },
  {
   "cell_type": "markdown",
   "id": "cb73dc5c-832a-4ba8-bc9d-8c71bedcb1e0",
   "metadata": {},
   "source": [
    "------------------------------------------------------\n",
    "\n",
    "np.zeros((2, 3)) ifadesindeki '(2, 3)' tuple (demet) olup, bir NumPy dizisinin boyutlarını belirtir. Bu tuple içindeki ilk eleman dizi boyutunun birinci boyutunu, ikinci eleman ise dizi boyutunun ikinci boyutunu belirtir.\n",
    "\n",
    "Yani, np.zeros((2, 3)) kodu ile iki satır ve üç sütundan oluşan, tüm elemanları sıfır olan bir 2 boyutlu dizi oluşturulur. np.zeros((3, 4)) kodu ile ise üç satır ve dört sütundan oluşan, tüm elemanları sıfır olan başka bir 2 boyutlu dizi oluşturulabilir. Benzer şekilde, np.ones((2, 2, 2)) ile 2x2x2 boyutlarında, tüm elemanları 1 olan bir 3 boyutlu dizi oluşturulabilir."
   ]
  },
  {
   "cell_type": "markdown",
   "id": "f6f26be9-5156-49c3-b055-b1a86f186f09",
   "metadata": {},
   "source": [
    "### NumPy Dizileri İşleme:\n",
    "\n",
    "NumPy, dizileri işlemek için birçok özellik sağlar. Bu bölümde, dizilerin indekslenmesi, kesilmesi, yeniden şekillendirilmesi, birleştirilmesi vb. konular ele alınır. Örneğin:"
   ]
  },
  {
   "cell_type": "code",
   "execution_count": 8,
   "id": "b7098d7b-471d-4b1c-a3a1-9504844e3517",
   "metadata": {},
   "outputs": [
    {
     "name": "stdout",
     "output_type": "stream",
     "text": [
      "1\n",
      "[2 3]\n",
      "2\n",
      "[7 8]\n",
      "6\n",
      "[[1 2 3]\n",
      " [4 5 6]]\n",
      "[1 2 3 4 5 6]\n"
     ]
    }
   ],
   "source": [
    "# Dizi elemanlarına erişim\n",
    "arr = np.array([1, 2, 3, 4, 5])\n",
    "print(arr[0])  # 1\n",
    "print(arr[1:3])  # [2, 3]\n",
    "\n",
    "# Boyutlu dizilere erişim\n",
    "arr = np.array([[1,2,3,4,5], [6,7,8,9,10]])\n",
    "print(arr[0, 1]) # 2\n",
    "print(arr[1, 1:3]) # [7 8]\n",
    "\n",
    "arr = np.array([[[1, 2, 3], [4, 5, 6]], [[7, 8, 9], [10, 11, 12]]])\n",
    "print(arr[0, 1, 2]) # 6\n",
    "\n",
    "# Dizi yeniden şekillendirme\n",
    "arr = np.array([1, 2, 3, 4, 5, 6])\n",
    "new_arr = arr.reshape(2, 3)\n",
    "print(new_arr)\n",
    "# [[1 2 3]\n",
    "#  [4 5 6]]\n",
    "\n",
    "# Dizi birleştirme\n",
    "arr1 = np.array([1, 2, 3])\n",
    "arr2 = np.array([4, 5, 6])\n",
    "new_arr = np.concatenate((arr1, arr2))\n",
    "print(new_arr)  # [1 2 3 4 5 6]"
   ]
  },
  {
   "cell_type": "markdown",
   "id": "6b4a079d-ca68-497e-8f2d-3238b4db0d7d",
   "metadata": {},
   "source": [
    "### NumPy Dizileri Matematiksel İşlemler:"
   ]
  },
  {
   "cell_type": "code",
   "execution_count": 21,
   "id": "c48b4275-c4f9-4610-bfe1-c7ed24f494ad",
   "metadata": {},
   "outputs": [
    {
     "name": "stdout",
     "output_type": "stream",
     "text": [
      "[5 7 9]\n",
      "[-3 -3 -3]\n",
      "[ 4 10 18]\n",
      "[0.25 0.4  0.5 ]\n",
      "[2. 3. 4.]\n",
      "[0.         0.69314718 1.09861229]\n",
      "[1 4 9]\n",
      "[0.         0.5        0.70710678 0.8660254  1.        ]\n"
     ]
    }
   ],
   "source": [
    "# Toplama, Çıkarma, Çarpma, Bölme\n",
    "arr1 = np.array([1, 2, 3])\n",
    "arr2 = np.array([4, 5, 6])\n",
    "print(arr1 + arr2)  # [5 7 9]\n",
    "print(arr1 - arr2)  # [-3 -3 -3]\n",
    "print(arr1 * arr2)  # [ 4 10 18]\n",
    "print(arr1 / arr2)  # [0.25 0.4  0.5 ]\n",
    "\n",
    "# Karekök\n",
    "x = np.array([4, 9, 16])\n",
    "karekok = np.sqrt(x)\n",
    "print(karekok)  # Output: [2. 3. 4.]\n",
    "\n",
    "# Logaritma\n",
    "arr = np.array([1, 2, 3])\n",
    "print(np.log(arr))  # [0.         0.69314718 1.09861229]\n",
    "\n",
    "# Üs alma\n",
    "arr = np.array([1, 2, 3])\n",
    "print(np.power(arr, 2))  # [1 4 9]\n",
    "\n",
    "# Trigonometrik fonksiyonlar\n",
    "arr = np.array([0, 30, 45, 60, 90])\n",
    "print(np.sin(np.radians(arr)))  # [0.         0.5        0.70710678 0.8660254  1.        ]"
   ]
  },
  {
   "cell_type": "markdown",
   "id": "0e5d71f1-5412-4b6f-93f0-529ebaf33ee6",
   "metadata": {},
   "source": [
    "### NumPy Dizileri İndeksleme ve Kesme:\n",
    "\n",
    "NumPy dizileri, indeksleme ve kesme işlemleri için özelleştirilmiş bir arayüz sağlar. Bu bölümde, dizilerin belirli elemanlara nasıl erişileceği, belli bir aralıktaki elemanların nasıl seçileceği vb. konular ele alınır. Örneğin:\n"
   ]
  },
  {
   "cell_type": "code",
   "execution_count": 23,
   "id": "7c65b570-3ab0-403d-a624-01eff3e127b1",
   "metadata": {},
   "outputs": [
    {
     "name": "stdout",
     "output_type": "stream",
     "text": [
      "1\n",
      "[2 3]\n",
      "2\n",
      "[[5 6]\n",
      " [8 9]]\n"
     ]
    }
   ],
   "source": [
    "# Dizi elemanlarına erişim\n",
    "arr = np.array([1, 2, 3, 4, 5])\n",
    "print(arr[0])  # 1\n",
    "print(arr[1:3])  # [2, 3]\n",
    "\n",
    "# 2D Dizi elemanlarına erişim\n",
    "arr = np.array([[1, 2, 3], [4, 5, 6], [7, 8, 9]])\n",
    "print(arr[0, 1])  # 2\n",
    "print(arr[1:, 1:])  # [[5 6][8 9]]"
   ]
  },
  {
   "cell_type": "markdown",
   "id": "e1cb4778-796f-4b32-90ff-9b2494127412",
   "metadata": {},
   "source": [
    "### NumPy Dizileri Birleştirme ve Yeniden Şekillendirme\n",
    "\n",
    "NumPy, dizileri birleştirme ve yeniden şekillendirme işlemleri için özelleştirilmiş bir arayüz sağlar. Bu bölümde, dizilerin nasıl birleştirileceği ve yeniden şekillendirileceği konuları ele alınır. Örneğin:\n"
   ]
  },
  {
   "cell_type": "code",
   "execution_count": 24,
   "id": "eb9c98cd-c219-4afb-ab23-4d1492c41957",
   "metadata": {},
   "outputs": [
    {
     "name": "stdout",
     "output_type": "stream",
     "text": [
      "[1 2 3 4 5 6]\n",
      "[[1 2 5 6]\n",
      " [3 4 7 8]]\n",
      "[[1 2 3]\n",
      " [4 5 6]]\n"
     ]
    }
   ],
   "source": [
    "# Dizi birleştirme\n",
    "arr1 = np.array([1, 2, 3])\n",
    "arr2 = np.array([4, 5, 6])\n",
    "new_arr = np.concatenate((arr1, arr2))\n",
    "print(new_arr)  # [1 2 3 4 5 6]\n",
    "\n",
    "# Yığınlar halindeki 2D dizileri birleştirme\n",
    "arr1 = np.array([[1, 2], [3, 4]])\n",
    "arr2 = np.array([[5, 6], [7, 8]])\n",
    "new_arr = np.concatenate((arr1, arr2), axis=1)\n",
    "print(new_arr)\n",
    "# [[1 2 5 6]\n",
    "#  [3 4 7 8]]\n",
    "\n",
    "# Yeniden şekillendirme\n",
    "arr = np.array([1, 2, 3, 4, 5, 6])\n",
    "new_arr = arr.reshape(2, 3)\n",
    "print(new_arr)\n",
    "# [[1 2 3]\n",
    "#  [4 5 6]]\n"
   ]
  },
  {
   "cell_type": "markdown",
   "id": "fe129b71-d9a4-4c85-bca7-8a2f668f84b3",
   "metadata": {},
   "source": [
    "### NumPy Dizileri İstatistiksel İşlemler: \n",
    "NumPy, diziler üzerinde birçok istatistiksel işlem yapabilir. Bu bölümde, diziler üzerinde ortalama, medyan, varyans gibi istatistiksel işlemlerin nasıl yapılacağı anlatılır. Örneğin:"
   ]
  },
  {
   "cell_type": "code",
   "execution_count": 25,
   "id": "e0dc7fca-5bc6-43e0-857e-020fc97f9f0d",
   "metadata": {},
   "outputs": [
    {
     "name": "stdout",
     "output_type": "stream",
     "text": [
      "3.0\n",
      "3.0\n",
      "2.0\n",
      "1.4142135623730951\n"
     ]
    }
   ],
   "source": [
    "# Ortalama\n",
    "arr = np.array([1, 2, 3, 4, 5])\n",
    "print(np.mean(arr))  # 3.0\n",
    "\n",
    "# Medyan\n",
    "arr = np.array([1, 2, 3, 4, 5])\n",
    "print(np.median(arr))  # 3.0\n",
    "\n",
    "# Varyans\n",
    "arr = np.array([1, 2, 3, 4, 5])\n",
    "print(np.var(arr))  # 2.0\n",
    "\n",
    "# Standart sapma\n",
    "arr = np.array([1, 2, 3, 4, 5])\n",
    "print(np.std(arr))  # 1.41421356"
   ]
  },
  {
   "cell_type": "markdown",
   "id": "684799a6-09eb-466e-8594-9e699b5482db",
   "metadata": {},
   "source": [
    "### NumPy Dizileri Dosya İşlemleri\n",
    "\n",
    "NumPy, dizilerin dosya işlemleri yapmak için kullanılabilmesine olanak sağlar. Bu bölümde, NumPy dizilerinin nasıl dosyaya yazılacağı ve dosyadan nasıl okunacağı konuları ele alınır. Örneğin:"
   ]
  },
  {
   "cell_type": "code",
   "execution_count": null,
   "id": "9cd88cab-659f-4abc-9427-56df9995d581",
   "metadata": {},
   "outputs": [
    {
     "name": "stdout",
     "output_type": "stream",
     "text": [
      "[1. 2. 3. 4. 5.]\n"
     ]
    }
   ],
   "source": [
    "# Dizi dosyaya yazma\n",
    "arr = np.array([1, 2, 3, 4, 5])\n",
    "np.savetxt('array.txt', arr)\n",
    "\n",
    "# Dizi dosyadan okuma\n",
    "arr = np.loadtxt('array.txt')\n",
    "print(arr)  # [1. 2. 3. 4. 5.]"
   ]
  },
  {
   "cell_type": "markdown",
   "id": "0f78a22d-f807-4f34-aa72-28e6335a5414",
   "metadata": {},
   "source": [
    "### transpose()\n",
    "\n",
    "\"Transpose\", matrislerin veya tabloların sütunlarını satırlara ve satırları sütunlara dönüştürmek için kullanılan bir matematiksel işlemdir. Transpoze alma işlemi, matrisin satırlarının sütunlarına, sütunlarının ise satırlarına dönüştürülmesini sağlar.\n",
    "\n",
    "Örneğin, 3x2 boyutunda bir matrisimiz olsun. Bu matrisin transpozesi, 2x3 boyutunda bir matris olacaktır.\n"
   ]
  },
  {
   "cell_type": "code",
   "execution_count": 2,
   "id": "45ce2a1a-bf43-44d9-947d-8d98d3fd5b36",
   "metadata": {},
   "outputs": [
    {
     "name": "stdout",
     "output_type": "stream",
     "text": [
      "[[1 3 5]\n",
      " [2 4 6]]\n"
     ]
    }
   ],
   "source": [
    "import numpy as np\n",
    "\n",
    "a = np.array([[1, 2], [3, 4], [5, 6]])\n",
    "a_transpose = np.transpose(a)\n",
    "print(a_transpose)"
   ]
  },
  {
   "cell_type": "markdown",
   "id": "5de41d70-ab85-40e6-84c2-1d88f9a8fd21",
   "metadata": {},
   "source": [
    "# Örnek Uygulama - 1"
   ]
  },
  {
   "cell_type": "code",
   "execution_count": 10,
   "id": "767a775c-c0f0-41a0-bf4d-568a2fa9cef2",
   "metadata": {},
   "outputs": [
    {
     "name": "stdout",
     "output_type": "stream",
     "text": [
      "Adım array boyutu: (7,)\n",
      "Kalori array boyutu: (7,)\n",
      "Ortalama adım sayısı: 3534.285714285714\n",
      "Ortalama kalori tüketimi: 1985.7142857142858\n",
      "En fazla adım sayısı: 4392\n",
      "En fazla kalori tüketimi: 2200\n",
      "Adım/Kalori oranı: [1.23315789 1.7105     1.90055556 1.99636364 2.05761905 1.7105\n",
      " 1.80052632]\n",
      "Günlük adım ve kalori sayıları:\n",
      "[[2343 1900]\n",
      " [3421 2000]\n",
      " [3421 1800]\n",
      " [4392 2200]\n",
      " [4321 2100]\n",
      " [3421 2000]\n",
      " [3421 1900]]\n"
     ]
    }
   ],
   "source": [
    "import numpy as np\n",
    "\n",
    "# Günlük yaşamdan bir örnek veri seti oluşturalım\n",
    "gunluk_adim_sayisi = [2343, 3421, 3421, 4392, 4321, 3421, 3421]\n",
    "gunluk_kalori_tuketimi = [1900, 2000, 1800, 2200, 2100, 2000, 1900]\n",
    "\n",
    "# Numpy array'leri oluşturalım\n",
    "adim_array = np.array(gunluk_adim_sayisi)\n",
    "kalori_array = np.array(gunluk_kalori_tuketimi)\n",
    "\n",
    "# Array boyutlarını görelim\n",
    "print(\"Adım array boyutu:\", adim_array.shape)\n",
    "print(\"Kalori array boyutu:\", kalori_array.shape)\n",
    "\n",
    "# Array'ler üzerinde bazı matematiksel işlemler yapalım\n",
    "ortalama_adim = np.mean(adim_array)\n",
    "ortalama_kalori = np.mean(kalori_array)\n",
    "\n",
    "print(\"Ortalama adım sayısı:\", ortalama_adim)\n",
    "print(\"Ortalama kalori tüketimi:\", ortalama_kalori)\n",
    "\n",
    "en_fazla_adim = np.max(adim_array)\n",
    "en_fazla_kalori = np.max(kalori_array)\n",
    "\n",
    "print(\"En fazla adım sayısı:\", en_fazla_adim)\n",
    "print(\"En fazla kalori tüketimi:\", en_fazla_kalori)\n",
    "\n",
    "# Array'ler arasında matematiksel işlemler yapalım\n",
    "adim_kalori_orani = adim_array / kalori_array\n",
    "print(\"Adım/Kalori oranı:\", adim_kalori_orani)\n",
    "\n",
    "# Array'leri birleştirelim\n",
    "gun_array = np.column_stack((adim_array, kalori_array))\n",
    "print(\"Günlük adım ve kalori sayıları:\")\n",
    "print(gun_array)"
   ]
  },
  {
   "cell_type": "markdown",
   "id": "68a58c0d-a225-44d0-8076-6e64dfc027cf",
   "metadata": {},
   "source": [
    "## 1. Veri Okuma ve Yükleme:"
   ]
  },
  {
   "cell_type": "markdown",
   "id": "9ca5d80b-606c-4774-b341-77e7f2a475cf",
   "metadata": {},
   "source": [
    "# Örnek Uygulama - 2"
   ]
  },
  {
   "cell_type": "code",
   "execution_count": 13,
   "id": "c4c050e8-c225-4715-826e-281c92f57f00",
   "metadata": {},
   "outputs": [
    {
     "name": "stdout",
     "output_type": "stream",
     "text": [
      "Sınav ortalamaları: [82.5 72.5 92.5 62.5]\n",
      "Öğrenci ortalamaları: [75. 80. 85. 70.]\n",
      "En yüksek notlar: [ 90  80 100  70]\n",
      "En yüksek notların alındığı dersler: [2 2 2 2]\n",
      "Tüm notlar:\n",
      "[[ 80  70  90  60]\n",
      " [ 85  75  95  65]\n",
      " [ 90  80 100  70]\n",
      " [ 75  65  85  55]\n",
      " [ 85  90  92  78]]\n",
      "Geçti mi? [[ True  True  True False]\n",
      " [ True  True  True False]\n",
      " [ True  True  True  True]\n",
      " [ True False  True False]\n",
      " [ True  True  True  True]]\n",
      "70 ve üstü not alan öğrenci sayısı: 16\n",
      "En az 3 dersten 70 ve üstü alan öğrenciler: [ True  True  True False  True]\n"
     ]
    }
   ],
   "source": [
    "import numpy as np\n",
    "\n",
    "# Öğrenci notlarından oluşan bir veri seti oluşturalım\n",
    "notlar = [[80, 70, 90, 60],\n",
    "          [85, 75, 95, 65],\n",
    "          [90, 80, 100, 70],\n",
    "          [75, 65, 85, 55]]\n",
    "\n",
    "# Numpy array'ine dönüştürelim\n",
    "notlar_array = np.array(notlar)\n",
    "\n",
    "# Array üzerinde bazı işlemler yapalım\n",
    "# axis=0, bir çok boyutlu array'in sütunlar boyunca işlem yapılmasını ifade eder.\n",
    "sinav_ortalamalari = np.mean(notlar_array, axis=0)\n",
    "print(\"Sınav ortalamaları:\", sinav_ortalamalari)\n",
    "\n",
    "# axis=1, bir çok boyutlu array'in satırlar boyunca işlem yapılmasını ifade eder.  \n",
    "ogrenci_ortalamalari = np.mean(notlar_array, axis=1)\n",
    "print(\"Öğrenci ortalamaları:\", ogrenci_ortalamalari)\n",
    "\n",
    "en_yuksek_notlar = np.max(notlar_array, axis=0)\n",
    "print(\"En yüksek notlar:\", en_yuksek_notlar)\n",
    "\n",
    "en_yuksek_notlarin_alindigi_dersler = np.argmax(notlar_array, axis=1)\n",
    "print(\"En yüksek notların alındığı dersler:\", en_yuksek_notlarin_alindigi_dersler)\n",
    "\n",
    "# Array'leri birleştirelim\n",
    "final_notlari = np.array([85, 90, 92, 78])\n",
    "notlar_array = np.vstack((notlar_array, final_notlari))\n",
    "print(\"Tüm notlar:\")\n",
    "print(notlar_array)\n",
    "\n",
    "# Boolean index ile bazı işlemler yapalım\n",
    "gecti_mi = notlar_array >= 70\n",
    "print(\"Geçti mi?\", gecti_mi)\n",
    "\n",
    "kac_tane_70_ustu = np.sum(gecti_mi)\n",
    "print(\"70 ve üstü not alan öğrenci sayısı:\", kac_tane_70_ustu)\n",
    "\n",
    "en_az_3_70_ustu = np.sum(gecti_mi, axis=1) >= 3\n",
    "print(\"En az 3 dersten 70 ve üstü alan öğrenciler:\", en_az_3_70_ustu)"
   ]
  },
  {
   "cell_type": "code",
   "execution_count": null,
   "id": "da165e94-1ba1-4a70-98a0-8d01349a7725",
   "metadata": {},
   "outputs": [],
   "source": []
  }
 ],
 "metadata": {
  "kernelspec": {
   "display_name": "Python 3 (ipykernel)",
   "language": "python",
   "name": "python3"
  },
  "language_info": {
   "codemirror_mode": {
    "name": "ipython",
    "version": 3
   },
   "file_extension": ".py",
   "mimetype": "text/x-python",
   "name": "python",
   "nbconvert_exporter": "python",
   "pygments_lexer": "ipython3",
   "version": "3.8.8"
  }
 },
 "nbformat": 4,
 "nbformat_minor": 5
}
