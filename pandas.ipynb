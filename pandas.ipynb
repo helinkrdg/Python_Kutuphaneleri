{
 "cells": [
  {
   "cell_type": "markdown",
   "id": "2deb2841-75fd-4634-a1df-5cbb94c23e58",
   "metadata": {},
   "source": [
    "## 1.Pandas'a Giriş\n",
    "- Pandas Nedir?\n",
    "- Pandas'ın Kurulumu\n",
    "- Pandas'ı İçe Aktarma\n",
    "## 2.Pandas Veri Yapıları\n",
    "- Seriler (Series)\n",
    "    - Seri oluşturma\n",
    "    - Seri indeksleme ve dilimleme\n",
    "    - Seriye erişim ve değer atama\n",
    "- Veri Çerçeveleri (DataFrames)\n",
    "    - Veri çerçevesi oluşturma\n",
    "    - Veri çerçevesi indeksleme ve dilimleme\n",
    "    - Veri çerçevesinde sütun ekleme, silme ve yeniden adlandırma\n",
    "    - Veri çerçevesi üzerinde gezinme ve işlemler\n",
    "- Veri Setini Tanıma\n",
    "## 3.Veri Okuma ve Yazma\n",
    "- CSV, Excel, JSON, SQL vb. formatlardan veri okuma\n",
    "- Veri çerçevesini CSV, Excel, JSON, SQL vb. formatlara yazma\n",
    "## 4.Veri Temizleme ve Düzenleme\n",
    "- Eksik verilerle başa çıkma\n",
    "- Veri türlerini dönüştürme\n",
    "- Veri çerçevesinde sütunları yeniden şekillendirme ve dönüştürme\n",
    "- Veri çerçevesindeki tekrar eden veya gereksiz verileri kaldırma\n",
    "## 5. Veri Analizi ve İstatistiksel Hesaplamalar\n",
    "- Temel istatistiksel hesaplamaları gerçekleştirme\n",
    "- Veri gruplama ve toplulaştırma (groupby)\n",
    "- Veri sıralama ve filtreleme\n",
    "- Veri çerçeveleri arasında birleştirme ve birleştirilmiş verilerle çalışma\n",
    "## 6.Veri Görselleştirme\n",
    "- Çizgi Grafiği (Line Plot)\n",
    "- Sütun Grafiği (Bar Plot)\n",
    "- Histogram\n",
    "- Nokta Grafiği (Scatter Plot)\n",
    "- Kutu Grafiği (Box Plot)\n",
    "- Pasta Grafiği (Pie Chart)\n",
    "- Alan Grafiği (Area Plot)\n",
    "- Yoğunluk Grafiği (Density Plot)\n",
    "## 7. İleri Düzey Pandas\n",
    "- Zaman serileri analizi\n",
    "- Çoklu indeksleme ve çok seviyeli veri çerçeveleri\n",
    "- Büyük veri kümeleriyle çalışma için performans iyileştirmeleri\n"
   ]
  },
  {
   "cell_type": "markdown",
   "id": "2ffe534e-b580-4fa6-aee4-532ef2b65614",
   "metadata": {},
   "source": [
    "## 1. Pandas'a Giriş"
   ]
  },
  {
   "cell_type": "markdown",
   "id": "94230fb7-f71a-441c-b455-46d2a64453b0",
   "metadata": {},
   "source": [
    "- **Pandas Nedir?**\n",
    "\n",
    "Pandas, Python programlama dilinde veri analizi ve manipülasyonu için kullanılan güçlü bir kütüphanedir. Pandas, veri işleme, temizleme, dönüştürme ve analiz için çeşitli veri yapıları ve fonksiyonlar sunar. Özellikle tablo benzeri veri yapıları üzerinde etkilidir. Pandas, verileri kolayca yüklemenizi, filtrelemenizi, sıralamanızı, birleştirmenizi, gruplandırmanızı ve istatistiksel analizler yapmanızı sağlar. Ayrıca, eksik verilerin yönetimi, verilerin zaman serisi analizi ve veri görselleştirme gibi birçok özelliğe sahiptir."
   ]
  },
  {
   "cell_type": "markdown",
   "id": "0bf16523-5362-4e7b-9088-d49aa1ea4634",
   "metadata": {},
   "source": [
    "- **Pandas'ın Kurulumu**"
   ]
  },
  {
   "cell_type": "markdown",
   "id": "b82ca9d7-2f78-441d-a344-6e0d95590ec2",
   "metadata": {},
   "source": [
    "Python paketlerini yönetmek için pip (Python Package Installer) kullanılır. Aşağıdaki komutu komut satırında çalıştırarak Pandas'ı yükleyebilirsiniz"
   ]
  },
  {
   "cell_type": "code",
   "execution_count": null,
   "id": "d68d4034-53a6-46f0-8b76-82e294b198d1",
   "metadata": {},
   "outputs": [],
   "source": [
    "pip install pandas"
   ]
  },
  {
   "cell_type": "markdown",
   "id": "fae2b0dc-d7e6-4836-959e-25968720e5e8",
   "metadata": {},
   "source": [
    "Pandas başarıyla yüklendiyse, aşağıdaki komutu kullanarak Pandas'ın versiyonunu kontrol edebilirsiniz:"
   ]
  },
  {
   "cell_type": "code",
   "execution_count": null,
   "id": "f7b0e1f6-19be-4849-a780-08d23e8dec11",
   "metadata": {},
   "outputs": [],
   "source": [
    "import pandas as pd\n",
    "print(pd.__version__)"
   ]
  },
  {
   "cell_type": "markdown",
   "id": "7f489a70-f1d4-44e1-a03d-74be294ec5f4",
   "metadata": {},
   "source": [
    "- **Pandas'ı İçe Aktarma**"
   ]
  },
  {
   "cell_type": "markdown",
   "id": "617ef2c6-8f5b-4736-8e1e-76e70a02ddd9",
   "metadata": {},
   "source": [
    "Pandas'ı kullanabilmek için aşağıdaki kodu kullanarak Pandas'ı içe aktarmanız gerekmektedir."
   ]
  },
  {
   "cell_type": "code",
   "execution_count": 2,
   "id": "f47f14d6-c8b4-48cd-a721-78319a5ede46",
   "metadata": {},
   "outputs": [],
   "source": [
    "import pandas as pd"
   ]
  },
  {
   "cell_type": "markdown",
   "id": "4020750b-b396-465b-8b2b-09d47261b38d",
   "metadata": {},
   "source": [
    "Projelerinizde Pandas kütüphanesini pd takma adıyla içe aktaracaktır. pd takma adı genellikle Pandas kullanımında yaygın olarak tercih edilen bir isimdir, ancak isterseniz farklı bir takma ad kullanabilirsiniz."
   ]
  },
  {
   "cell_type": "markdown",
   "id": "17357571-855c-472b-bec2-40bc70ce467e",
   "metadata": {},
   "source": [
    "## 2. Pandas Veri Yapıları"
   ]
  },
  {
   "cell_type": "markdown",
   "id": "17d3284f-59bf-481b-acaa-e9940cfa3662",
   "metadata": {},
   "source": [
    "### Seriler (Series)\n",
    "\n",
    "Seriler (Series), Pandas kütüphanesinin temel veri yapılarından biridir. Tek boyutlu ve etiketli bir veri dizisidir. "
   ]
  },
  {
   "cell_type": "markdown",
   "id": "000a3f92-f6a2-4083-98a4-f0ebc68d0225",
   "metadata": {},
   "source": [
    "- **Seri oluşturma**\n",
    "\n",
    "Pandas'ın temel veri yapısı olan seri, tek boyutlu etiketli bir dizidir. Seriler, farklı veri tiplerini içerebilir ve etiketlenmiş indekslerle birlikte gelir. Bir seri oluşturmak için pd.Series() fonksiyonunu kullanabiliriz."
   ]
  },
  {
   "cell_type": "code",
   "execution_count": 3,
   "id": "b8650829-00d6-4ae2-abbd-017ce8215a81",
   "metadata": {},
   "outputs": [
    {
     "name": "stdout",
     "output_type": "stream",
     "text": [
      "0    10\n",
      "1    20\n",
      "2    30\n",
      "3    40\n",
      "4    50\n",
      "dtype: int64\n"
     ]
    }
   ],
   "source": [
    "import pandas as pd\n",
    "\n",
    "# Seri oluşturma\n",
    "seri = pd.Series([10, 20, 30, 40, 50])\n",
    "print(seri)"
   ]
  },
  {
   "cell_type": "markdown",
   "id": "c44d0269-5a6e-48fc-a5e5-11e4fd555077",
   "metadata": {},
   "source": [
    "- **Seri indeksleme ve dilimleme**"
   ]
  },
  {
   "cell_type": "markdown",
   "id": "d92e4861-9551-44a6-86df-0622c4937b35",
   "metadata": {},
   "source": [
    "Serilerde indeksleme ve dilimleme yaparak belirli verilere erişebiliriz. Seriye erişmek için indeks değerini kullanabiliriz. Ayrıca, dilimleme işlemiyle bir serinin belirli bir aralığına erişebiliriz."
   ]
  },
  {
   "cell_type": "code",
   "execution_count": 4,
   "id": "69fe7ce8-e0fa-44b0-aeae-e1ddd50d15ae",
   "metadata": {},
   "outputs": [
    {
     "name": "stdout",
     "output_type": "stream",
     "text": [
      "30\n",
      "a    10\n",
      "b    20\n",
      "e    50\n",
      "dtype: int64\n",
      "c    30\n",
      "d    40\n",
      "dtype: int64\n"
     ]
    }
   ],
   "source": [
    "import pandas as pd\n",
    "\n",
    "# Seri indeksleme ve dilimleme\n",
    "seri = pd.Series([10, 20, 30, 40, 50], index=['a', 'b', 'c', 'd', 'e'])\n",
    "print(seri['c'])  # 'c' indeksine karşılık gelen değeri getirir\n",
    "print(seri[['a', 'b', 'e']])  # 'a', 'b' ve 'e' indekslerine karşılık gelen değerleri getirir\n",
    "print(seri[2:4])  # 2. indeksten 4. indekse kadar olan değerleri dilimler\n"
   ]
  },
  {
   "cell_type": "markdown",
   "id": "1c21ab6b-96b6-4489-8441-6f70666a150a",
   "metadata": {},
   "source": [
    "- **Seriye Erişim ve Değer Atama:***"
   ]
  },
  {
   "cell_type": "markdown",
   "id": "09b38676-86f9-4100-b5a0-f72bc4433673",
   "metadata": {},
   "source": [
    "Bir serinin belirli bir indeksine erişmek veya bu indekse bir değer atamak için indeks değerini kullanabiliriz."
   ]
  },
  {
   "cell_type": "code",
   "execution_count": 7,
   "id": "ad472259-f95d-4964-8d09-dd7e46dd241f",
   "metadata": {},
   "outputs": [
    {
     "name": "stdout",
     "output_type": "stream",
     "text": [
      "20\n",
      "a    10\n",
      "b    20\n",
      "c    30\n",
      "d    45\n",
      "e    50\n",
      "dtype: int64\n"
     ]
    }
   ],
   "source": [
    "import pandas as pd\n",
    "\n",
    "# Seriye erişim ve değer atama\n",
    "seri = pd.Series([10, 20, 30, 40, 50], index=['a', 'b', 'c', 'd', 'e'])\n",
    "print(seri['b'])  # 'b' indeksine karşılık gelen değeri getirir\n",
    "\n",
    "seri['d'] = 45  # 'd' indeksine karşılık gelen değeri değiştirir\n",
    "print(seri)"
   ]
  },
  {
   "cell_type": "markdown",
   "id": "0b3c642b-b26a-46a6-888e-301ac6d73e1c",
   "metadata": {},
   "source": [
    "Serinin indekslerini belirtmek için index parametresini kullanıyoruz. Bu örnekte, indeksler olarak 'a', 'b', 'c', 'd' ve 'e' değerlerini atıyoruz. Bu indeksler, her bir veri değerine karşılık gelir.yukarıdaki kod, [10, 20, 30, 40, 50] veri değerlerine ve ['a', 'b', 'c', 'd', 'e'] indekslerine sahip bir seri oluşturur."
   ]
  },
  {
   "cell_type": "markdown",
   "id": "b1fd299d-c2d4-4173-8793-1ae90fa42ae9",
   "metadata": {},
   "source": [
    "### Veri Çerçeveleri (DataFrames)"
   ]
  },
  {
   "cell_type": "markdown",
   "id": "19fbce38-e5e4-4f14-bf7d-2e1cd87b363a",
   "metadata": {},
   "source": [
    "Veri Çerçeveleri (DataFrames), Pandas kütüphanesinde kullanılan iki boyutlu tablo benzeri veri yapılarıdır. Sütunlar değişkenleri veya özellikleri temsil ederken, satırlar veri noktalarını veya gözlemleri temsil eder. "
   ]
  },
  {
   "cell_type": "markdown",
   "id": "1644d359-7b71-4aa5-a58e-3d5c616f70d2",
   "metadata": {},
   "source": [
    "- **Veri çerçevesi oluşturma**"
   ]
  },
  {
   "cell_type": "code",
   "execution_count": 9,
   "id": "c259093a-8c79-4384-b51e-795ea318a1e1",
   "metadata": {},
   "outputs": [
    {
     "name": "stdout",
     "output_type": "stream",
     "text": [
      "  Öğrenci  Sınıf  Not\n",
      "0   Ahmet     10   85\n",
      "1  Mehmet     11   92\n",
      "2    Ayşe     10   78\n",
      "3   Fatma     12   88\n"
     ]
    }
   ],
   "source": [
    "import pandas as pd\n",
    "\n",
    "# Veri çerçevesi için verileri tanımlama\n",
    "data = {'Öğrenci': ['Ahmet', 'Mehmet', 'Ayşe', 'Fatma'],\n",
    "        'Sınıf': [10, 11, 10, 12],\n",
    "        'Not': [85, 92, 78, 88]}\n",
    "\n",
    "# Veri çerçevesini oluşturma\n",
    "df = pd.DataFrame(data)\n",
    "print(df)"
   ]
  },
  {
   "cell_type": "markdown",
   "id": "65a15cfe-cb23-46b3-a667-b377da7b2717",
   "metadata": {},
   "source": [
    "**pd.DataFrame()** fonksiyonunu kullanarak veri çerçevesini oluşturuyoruz. Bu kod parçası, \"Öğrenci\", \"Sınıf\" ve \"Not\" sütunlarından oluşan bir veri çerçevesi oluşturur. Her sütunun verileri bir liste olarak belirlenir ve bu sütunlar bir veri çerçevesine birleştirilir. Oluşturulan veri çerçevesi, df değişkenine atanır ve daha sonra bu değişken üzerinden veri çerçevesi ile ilgili işlemler yapabilirsiniz."
   ]
  },
  {
   "cell_type": "markdown",
   "id": "e07c6eed-9d8d-46ac-8a67-f588ae1cb822",
   "metadata": {},
   "source": [
    "- **Veri çerçevesi indeksleme ve dilimleme**"
   ]
  },
  {
   "cell_type": "markdown",
   "id": "f00899b9-8397-4d7e-ba0b-aea201a9b04d",
   "metadata": {},
   "source": [
    "İndeksleme ve dilimleme, veri çerçevesinde belirli satırlara ve sütunlara erişmek için kullanılan işlemlerdir."
   ]
  },
  {
   "cell_type": "code",
   "execution_count": 10,
   "id": "f5b7476e-73e6-4932-a3d0-0f6e72feeb33",
   "metadata": {},
   "outputs": [
    {
     "name": "stdout",
     "output_type": "stream",
     "text": [
      "Öğrenci    Ahmet\n",
      "Sınıf         10\n",
      "Not           85\n",
      "Name: 0, dtype: object\n",
      "  Öğrenci  Sınıf  Not\n",
      "1  Mehmet     11   92\n",
      "2    Ayşe     10   78\n",
      "0     Ahmet\n",
      "1    Mehmet\n",
      "2      Ayşe\n",
      "3     Fatma\n",
      "Name: Öğrenci, dtype: object\n",
      "  Öğrenci  Sınıf  Not\n",
      "1  Mehmet     11   92\n",
      "3   Fatma     12   88\n"
     ]
    }
   ],
   "source": [
    "import pandas as pd\n",
    "\n",
    "# Veri çerçevesi için verileri tanımlama\n",
    "data = {'Öğrenci': ['Ahmet', 'Mehmet', 'Ayşe', 'Fatma'],\n",
    "        'Sınıf': [10, 11, 10, 12],\n",
    "        'Not': [85, 92, 78, 88]}\n",
    "\n",
    "# Veri çerçevesini oluşturma\n",
    "df = pd.DataFrame(data)\n",
    "\n",
    "# İndeksleme ve dilimleme işlemleri\n",
    "# İndeks numarasına göre satırlara erişim\n",
    "print(df.loc[0])  # İlk satıra erişim\n",
    "\n",
    "# İndeks etiketine göre satırlara erişim\n",
    "print(df.loc[1:2])  # 1. ve 2. satırlara erişim\n",
    "\n",
    "# Belirli sütunları seçme\n",
    "print(df['Öğrenci'])  # 'Öğrenci' sütununu seçme\n",
    "\n",
    "# Koşullu indeksleme\n",
    "print(df[df['Not'] > 85])  # Notu 85'ten büyük olan öğrencileri seçme"
   ]
  },
  {
   "cell_type": "markdown",
   "id": "347ad932-f977-49e4-bd24-b719ba08810a",
   "metadata": {},
   "source": [
    "**İndeksleme:**"
   ]
  },
  {
   "cell_type": "markdown",
   "id": "f5996c1f-e5e7-4fea-b91a-0c30a82f8bad",
   "metadata": {},
   "source": [
    "İndeksleme, veri çerçevesindeki belirli satırlara erişmeyi sağlar. İki farklı indeksleme yöntemi vardır: indeks numarası ve indeks etiketi. İndeks numarasıyla erişim için ***loc*** indeksleme yöntemi kullanılır. Örneğin, df.loc[0] ifadesiyle ilk satıra (indeks numarası 0 olan satır) erişilebilir. İndeks etiketiyle erişim için de loc indeksleme yöntemi kullanılır. Örneğin, df.loc[1:2] ifadesiyle 1. ve 2. satırlara (indeks etiketleri 1 ve 2 olan satırlar) erişilebilir."
   ]
  },
  {
   "cell_type": "markdown",
   "id": "9cf17b56-8376-40af-afcf-29004d26137c",
   "metadata": {},
   "source": [
    "**Dilimleme:**"
   ]
  },
  {
   "cell_type": "markdown",
   "id": "9545a465-5cb5-47ec-9339-18a54c347886",
   "metadata": {},
   "source": [
    "Dilimleme, belirli bir aralıktaki satırlara erişmeyi sağlar. Dilimleme işlemi, : operatörüyle gerçekleştirilir. Örneğin, df[1:3] ifadesiyle 1. ve 2. satırlara (indeks numaraları 1 ve 2 olan satırlar) erişebiliriz."
   ]
  },
  {
   "cell_type": "markdown",
   "id": "90356350-3dc6-4ca2-a01b-8f3ac16e383c",
   "metadata": {},
   "source": [
    "**Sütun seçme:**"
   ]
  },
  {
   "cell_type": "markdown",
   "id": "bbfa0e74-fdbe-4bcf-a8a5-3de0e294f2fd",
   "metadata": {},
   "source": [
    "Sütun seçme işlemi, veri çerçevesinden belirli sütunları seçmeyi sağlar. Sütun adı kullanılarak sütunlara erişim sağlanır. Örneğin, df['Öğrenci'] ifadesiyle 'Öğrenci' sütununu seçebiliriz."
   ]
  },
  {
   "cell_type": "markdown",
   "id": "90e3edb5-1708-439b-a189-4b31f4c2aa8f",
   "metadata": {},
   "source": [
    "**Koşullu indeksleme:**"
   ]
  },
  {
   "cell_type": "markdown",
   "id": "6805b84c-a4aa-4cf7-9d07-7252e8695bdb",
   "metadata": {},
   "source": [
    "Koşullu indeksleme, belirli bir koşulu sağlayan satırları seçmeyi sağlar. Koşul ifadesi kullanılarak koşullu indeksleme gerçekleştirilir. Örneğin, df[df['Not'] > 85] ifadesiyle 'Not' sütununda değeri 85'ten büyük olan öğrencileri seçebiliriz."
   ]
  },
  {
   "cell_type": "markdown",
   "id": "a8306b8f-d4c6-48cf-8da1-7bbafa1ee043",
   "metadata": {},
   "source": [
    "- **Veri çerçevesinde sütun ekleme, silme ve yeniden adlandırma**"
   ]
  },
  {
   "cell_type": "markdown",
   "id": "228871bc-bea3-458a-bbab-e314e3dcb739",
   "metadata": {},
   "source": [
    "**Sütun Ekleme:**\n",
    "\n",
    "Yeni bir sütun eklemek için [] operatörünü kullanabiliriz. Yeni sütun adını belirtirken, ilgili sütuna ait verileri de eklemeliyiz. Örneğin, df['Yaş'] = [15, 16, 15, 17] ifadesiyle 'Yaş' adında bir sütun ekleyebiliriz."
   ]
  },
  {
   "cell_type": "code",
   "execution_count": 12,
   "id": "13086c02-3165-4f6d-9ec2-6f03fe5011df",
   "metadata": {},
   "outputs": [
    {
     "name": "stdout",
     "output_type": "stream",
     "text": [
      "  Öğrenci  Sınıf  Not  Yaş\n",
      "0   Ahmet     10   85   15\n",
      "1  Mehmet     11   92   16\n",
      "2    Ayşe     10   78   15\n",
      "3   Fatma     12   88   17\n"
     ]
    }
   ],
   "source": [
    "import pandas as pd\n",
    "\n",
    "# Veri çerçevesi için verileri tanımlama\n",
    "data = {'Öğrenci': ['Ahmet', 'Mehmet', 'Ayşe', 'Fatma'],\n",
    "        'Sınıf': [10, 11, 10, 12],\n",
    "        'Not': [85, 92, 78, 88]}\n",
    "\n",
    "# Veri çerçevesini oluşturma\n",
    "df = pd.DataFrame(data)\n",
    "\n",
    "# 'Yaş' adında bir sütun eklenmesi\n",
    "df['Yaş'] = [15, 16, 15, 17]\n",
    "\n",
    "print(df)"
   ]
  },
  {
   "cell_type": "markdown",
   "id": "61c6ae60-796c-4d8c-9c79-09a5c2ccc2f0",
   "metadata": {},
   "source": [
    "**Sütun Silme:**"
   ]
  },
  {
   "cell_type": "markdown",
   "id": "36718453-367e-4e7d-8940-ca5a573a8bab",
   "metadata": {},
   "source": [
    "Bir sütunu silmek için drop() fonksiyonunu kullanabiliriz. drop() fonksiyonu, axis parametresiyle sütun silme işlemini belirtir. axis=1 ile sütun silme işlemi gerçekleştirilir. Örneğin, df.drop('Not', axis=1, inplace=True) ifadesiyle 'Not' sütununu silebiliriz. inplace=True parametresi, değişikliğin doğrudan veri çerçevesine uygulanmasını sağlar."
   ]
  },
  {
   "cell_type": "code",
   "execution_count": 15,
   "id": "bf59c2d9-fab8-495e-bb3a-157a2631e8ae",
   "metadata": {},
   "outputs": [
    {
     "name": "stdout",
     "output_type": "stream",
     "text": [
      "  Öğrenci  Sınıf\n",
      "0   Ahmet     10\n",
      "1  Mehmet     11\n",
      "2    Ayşe     10\n",
      "3   Fatma     12\n"
     ]
    }
   ],
   "source": [
    "import pandas as pd\n",
    "\n",
    "# Veri çerçevesi için verileri tanımlama\n",
    "data = {'Öğrenci': ['Ahmet', 'Mehmet', 'Ayşe', 'Fatma'],\n",
    "        'Sınıf': [10, 11, 10, 12],\n",
    "        'Not': [85, 92, 78, 88]}\n",
    "\n",
    "# Veri çerçevesini oluşturma\n",
    "df = pd.DataFrame(data)\n",
    "\n",
    "# Sütun silinmesi işlemi\n",
    "df.drop('Not', axis=1, inplace=True)\n",
    "\n",
    "print(df)"
   ]
  },
  {
   "cell_type": "markdown",
   "id": "110a46e7-3ad2-43bc-bc80-9944679e45ee",
   "metadata": {},
   "source": [
    "**Sütunu Yeniden Adlandırma:**"
   ]
  },
  {
   "cell_type": "markdown",
   "id": "fd62ecf4-50f6-4fd8-9bfa-882cfe565adf",
   "metadata": {},
   "source": [
    "Sütunun adını değiştirmek için rename() fonksiyonunu kullanabiliriz. rename() fonksiyonu, columns parametresiyle sütun adını değiştirir. Örneğin, df.rename(columns={'Sınıf': 'Sınıf Seviyesi'}, inplace=True) ifadesiyle 'Sınıf' sütununun adını 'Sınıf Seviyesi' olarak değiştirebiliriz. inplace=True parametresi, değişikliğin doğrudan veri çerçevesine uygulanmasını sağlar."
   ]
  },
  {
   "cell_type": "code",
   "execution_count": 17,
   "id": "a0f48a3b-4f22-4b1c-a0e7-d2a9be7d6426",
   "metadata": {},
   "outputs": [
    {
     "name": "stdout",
     "output_type": "stream",
     "text": [
      "  Öğrenci  Sınıf Seviyesi  Not\n",
      "0   Ahmet              10   85\n",
      "1  Mehmet              11   92\n",
      "2    Ayşe              10   78\n",
      "3   Fatma              12   88\n"
     ]
    }
   ],
   "source": [
    "import pandas as pd\n",
    "\n",
    "# Veri çerçevesi için verileri tanımlama\n",
    "data = {'Öğrenci': ['Ahmet', 'Mehmet', 'Ayşe', 'Fatma'],\n",
    "        'Sınıf': [10, 11, 10, 12],\n",
    "        'Not': [85, 92, 78, 88]}\n",
    "\n",
    "# Veri çerçevesini oluşturma\n",
    "df = pd.DataFrame(data)\n",
    "\n",
    "# Sütunu yeniden adlandırma\n",
    "df.rename(columns={'Sınıf': 'Sınıf Seviyesi'}, inplace=True) \n",
    "\n",
    "print(df)"
   ]
  },
  {
   "cell_type": "markdown",
   "id": "664bd4dd-9540-46eb-ab4a-8f1a2bc14eaa",
   "metadata": {},
   "source": [
    "- ***Veri Setini Tanıma***\n",
    "\n",
    "Pandas kütüphanesi kullanılarak veri tanıma işlemi, verinin yapısını ve içeriğini anlamak için kullanılır."
   ]
  },
  {
   "cell_type": "markdown",
   "id": "acbb7002-d3ad-47f5-a738-8c13c6385b4d",
   "metadata": {},
   "source": [
    "**1. head() fonksiyonu:*** \n",
    "\n",
    "Veri çerçevesinin ilk n satırını görüntüler."
   ]
  },
  {
   "cell_type": "code",
   "execution_count": 9,
   "id": "e89a8f3a-5a55-4f22-b2bd-cd70a2cee370",
   "metadata": {},
   "outputs": [
    {
     "name": "stdout",
     "output_type": "stream",
     "text": [
      "  Öğrenci       Ders  Not\n",
      "0     Ali  Matematik   90\n",
      "1    Ayşe      Fizik   85\n",
      "2  Mehmet      Kimya   95\n",
      "3   Ahmet  Matematik   75\n",
      "4   Aylin      Fizik   80\n"
     ]
    }
   ],
   "source": [
    "import pandas as pd\n",
    "\n",
    "data = {'Öğrenci': ['Ali', 'Ayşe', 'Mehmet', 'Ahmet', 'Aylin', 'Mustafa', 'Ebru', 'Can', 'Deniz', 'Gizem',\n",
    "                    'İbrahim', 'Elif', 'Burak', 'Fatma', 'Emre', 'Ceren', 'Gül', 'Kadir', 'İrem', 'Ozan'],\n",
    "        'Ders': ['Matematik', 'Fizik', 'Kimya', 'Matematik', 'Fizik', 'Kimya', 'Matematik', 'Fizik', 'Kimya',\n",
    "                 'Matematik', 'Fizik', 'Kimya', 'Matematik', 'Fizik', 'Kimya', 'Matematik', 'Fizik', 'Kimya',\n",
    "                 'Matematik', 'Fizik'],\n",
    "        'Not': [90, 85, 95, 75, 80, 92, 87, 88, 93, 82, 79, 91, 86, 89, 78, 83, 94, 81, 84, 90]}\n",
    "\n",
    "\n",
    "df = pd.DataFrame(data)\n",
    "\n",
    "# Veri setinin ilk 5 satırını görüntüleme\n",
    "print(df.head())"
   ]
  },
  {
   "cell_type": "markdown",
   "id": "3c257a76-7517-4e85-8daa-da1bc59289d9",
   "metadata": {},
   "source": [
    "**2. info() fonksiyonu:**\n",
    "\n",
    "Veri çerçevesinin genel bilgilerini ve sütunlarının veri tiplerini gösterir."
   ]
  },
  {
   "cell_type": "code",
   "execution_count": 10,
   "id": "48d5d364-8c82-4d28-84ec-ff14a26d0474",
   "metadata": {},
   "outputs": [
    {
     "name": "stdout",
     "output_type": "stream",
     "text": [
      "<class 'pandas.core.frame.DataFrame'>\n",
      "RangeIndex: 20 entries, 0 to 19\n",
      "Data columns (total 3 columns):\n",
      " #   Column   Non-Null Count  Dtype \n",
      "---  ------   --------------  ----- \n",
      " 0   Öğrenci  20 non-null     object\n",
      " 1   Ders     20 non-null     object\n",
      " 2   Not      20 non-null     int64 \n",
      "dtypes: int64(1), object(2)\n",
      "memory usage: 608.0+ bytes\n",
      "None\n"
     ]
    }
   ],
   "source": [
    "import pandas as pd\n",
    "\n",
    "data = {'Öğrenci': ['Ali', 'Ayşe', 'Mehmet', 'Ahmet', 'Aylin', 'Mustafa', 'Ebru', 'Can', 'Deniz', 'Gizem',\n",
    "                    'İbrahim', 'Elif', 'Burak', 'Fatma', 'Emre', 'Ceren', 'Gül', 'Kadir', 'İrem', 'Ozan'],\n",
    "        'Ders': ['Matematik', 'Fizik', 'Kimya', 'Matematik', 'Fizik', 'Kimya', 'Matematik', 'Fizik', 'Kimya',\n",
    "                 'Matematik', 'Fizik', 'Kimya', 'Matematik', 'Fizik', 'Kimya', 'Matematik', 'Fizik', 'Kimya',\n",
    "                 'Matematik', 'Fizik'],\n",
    "        'Not': [90, 85, 95, 75, 80, 92, 87, 88, 93, 82, 79, 91, 86, 89, 78, 83, 94, 81, 84, 90]}\n",
    "\n",
    "\n",
    "df = pd.DataFrame(data)\n",
    "\n",
    "# Veri setinin genel bilgilerini ve sütun veri tiplerini görüntüleme\n",
    "print(df.info())"
   ]
  },
  {
   "cell_type": "markdown",
   "id": "089fc470-6a45-419d-a34c-f9dc75b44c29",
   "metadata": {},
   "source": [
    "**3. describe() fonksiyonu:**\n",
    "\n",
    "Veri çerçevesinin sayısal sütunları için istatistiksel özet bilgileri gösterir."
   ]
  },
  {
   "cell_type": "code",
   "execution_count": 12,
   "id": "d9476424-0e02-44d3-ad69-4c7126f2197b",
   "metadata": {},
   "outputs": [
    {
     "name": "stdout",
     "output_type": "stream",
     "text": [
      "             Not\n",
      "count  20.000000\n",
      "mean   86.100000\n",
      "std     5.739063\n",
      "min    75.000000\n",
      "25%    81.750000\n",
      "50%    86.500000\n",
      "75%    90.250000\n",
      "max    95.000000\n"
     ]
    }
   ],
   "source": [
    "import pandas as pd\n",
    "\n",
    "data = {'Öğrenci': ['Ali', 'Ayşe', 'Mehmet', 'Ahmet', 'Aylin', 'Mustafa', 'Ebru', 'Can', 'Deniz', 'Gizem',\n",
    "                    'İbrahim', 'Elif', 'Burak', 'Fatma', 'Emre', 'Ceren', 'Gül', 'Kadir', 'İrem', 'Ozan'],\n",
    "        'Ders': ['Matematik', 'Fizik', 'Kimya', 'Matematik', 'Fizik', 'Kimya', 'Matematik', 'Fizik', 'Kimya',\n",
    "                 'Matematik', 'Fizik', 'Kimya', 'Matematik', 'Fizik', 'Kimya', 'Matematik', 'Fizik', 'Kimya',\n",
    "                 'Matematik', 'Fizik'],\n",
    "        'Not': [90, 85, 95, 75, 80, 92, 87, 88, 93, 82, 79, 91, 86, 89, 78, 83, 94, 81, 84, 90]}\n",
    "\n",
    "\n",
    "df = pd.DataFrame(data)\n",
    "\n",
    "# Veri setinin sayısal sütunları için istatistiksel özet bilgileri görüntüleme\n",
    "print(df.describe())"
   ]
  },
  {
   "cell_type": "markdown",
   "id": "9bf20e67-3090-4856-8bdb-9c88d014fba1",
   "metadata": {},
   "source": [
    "**4. shape özelliği:**\n",
    "\n",
    "Veri çerçevesinin satır ve sütun sayısını gösterir."
   ]
  },
  {
   "cell_type": "code",
   "execution_count": 14,
   "id": "9ef466fb-ee3e-4ced-af5b-633b0215fb0b",
   "metadata": {},
   "outputs": [
    {
     "name": "stdout",
     "output_type": "stream",
     "text": [
      "(20, 3)\n"
     ]
    }
   ],
   "source": [
    "import pandas as pd\n",
    "\n",
    "data = {'Öğrenci': ['Ali', 'Ayşe', 'Mehmet', 'Ahmet', 'Aylin', 'Mustafa', 'Ebru', 'Can', 'Deniz', 'Gizem',\n",
    "                    'İbrahim', 'Elif', 'Burak', 'Fatma', 'Emre', 'Ceren', 'Gül', 'Kadir', 'İrem', 'Ozan'],\n",
    "        'Ders': ['Matematik', 'Fizik', 'Kimya', 'Matematik', 'Fizik', 'Kimya', 'Matematik', 'Fizik', 'Kimya',\n",
    "                 'Matematik', 'Fizik', 'Kimya', 'Matematik', 'Fizik', 'Kimya', 'Matematik', 'Fizik', 'Kimya',\n",
    "                 'Matematik', 'Fizik'],\n",
    "        'Not': [90, 85, 95, 75, 80, 92, 87, 88, 93, 82, 79, 91, 86, 89, 78, 83, 94, 81, 84, 90]}\n",
    "\n",
    "\n",
    "df = pd.DataFrame(data)\n",
    "\n",
    "# Veri setinin satır ve sütun sayısını görüntüleme\n",
    "print(df.shape)"
   ]
  },
  {
   "cell_type": "markdown",
   "id": "60ed36c7-d524-40b5-b9e5-2d4df9c5c2a1",
   "metadata": {},
   "source": [
    "***5. Sütun Adları Gösterme:***\n",
    "\n",
    "Sütunların adlarını gösterir"
   ]
  },
  {
   "cell_type": "code",
   "execution_count": 21,
   "id": "8520e2e2-ea72-44c2-ae4f-9915535f6d59",
   "metadata": {},
   "outputs": [
    {
     "name": "stdout",
     "output_type": "stream",
     "text": [
      "Index(['Öğrenci', 'Ders', 'Not'], dtype='object')\n"
     ]
    }
   ],
   "source": [
    "import pandas as pd\n",
    "\n",
    "data = {'Öğrenci': ['Ali', 'Ayşe', 'Mehmet', 'Ahmet', 'Aylin', 'Mustafa', 'Ebru', 'Can', 'Deniz', 'Gizem',\n",
    "                    'İbrahim', 'Elif', 'Burak', 'Fatma', 'Emre', 'Ceren', 'Gül', 'Kadir', 'İrem', 'Ozan'],\n",
    "        'Ders': ['Matematik', 'Fizik', 'Kimya', 'Matematik', 'Fizik', 'Kimya', 'Matematik', 'Fizik', 'Kimya',\n",
    "                 'Matematik', 'Fizik', 'Kimya', 'Matematik', 'Fizik', 'Kimya', 'Matematik', 'Fizik', 'Kimya',\n",
    "                 'Matematik', 'Fizik'],\n",
    "        'Not': [90, 85, 95, 75, 80, 92, 87, 88, 93, 82, 79, 91, 86, 89, 78, 83, 94, 81, 84, 90]}\n",
    "\n",
    "\n",
    "df = pd.DataFrame(data)\n",
    "\n",
    "print(df.columns)"
   ]
  },
  {
   "cell_type": "markdown",
   "id": "0722eb4f-c6d4-4616-9760-02b00cf41ada",
   "metadata": {},
   "source": [
    "***6. Veri tiplerini Gösterme :***\n",
    "\n",
    "Sütünlerın veri tiplerini gösterir. "
   ]
  },
  {
   "cell_type": "code",
   "execution_count": 22,
   "id": "9ed21530-e109-4646-9668-6eec8a25b82e",
   "metadata": {},
   "outputs": [
    {
     "name": "stdout",
     "output_type": "stream",
     "text": [
      "Öğrenci    object\n",
      "Ders       object\n",
      "Not         int64\n",
      "dtype: object\n"
     ]
    }
   ],
   "source": [
    "import pandas as pd\n",
    "\n",
    "data = {'Öğrenci': ['Ali', 'Ayşe', 'Mehmet', 'Ahmet', 'Aylin', 'Mustafa', 'Ebru', 'Can', 'Deniz', 'Gizem',\n",
    "                    'İbrahim', 'Elif', 'Burak', 'Fatma', 'Emre', 'Ceren', 'Gül', 'Kadir', 'İrem', 'Ozan'],\n",
    "        'Ders': ['Matematik', 'Fizik', 'Kimya', 'Matematik', 'Fizik', 'Kimya', 'Matematik', 'Fizik', 'Kimya',\n",
    "                 'Matematik', 'Fizik', 'Kimya', 'Matematik', 'Fizik', 'Kimya', 'Matematik', 'Fizik', 'Kimya',\n",
    "                 'Matematik', 'Fizik'],\n",
    "        'Not': [90, 85, 95, 75, 80, 92, 87, 88, 93, 82, 79, 91, 86, 89, 78, 83, 94, 81, 84, 90]}\n",
    "\n",
    "\n",
    "df = pd.DataFrame(data)\n",
    "\n",
    "print(df.dtypes)"
   ]
  },
  {
   "cell_type": "markdown",
   "id": "bca7e982-4054-4686-aacb-b879299435a5",
   "metadata": {},
   "source": [
    "## 3. Veri Okuma ve Yazma"
   ]
  },
  {
   "cell_type": "markdown",
   "id": "36a9ef61-611e-4523-a284-2e57a5d45a31",
   "metadata": {},
   "source": [
    "- **CSV, Excel, JSON, SQL vb. formatlardan veri okuma**"
   ]
  },
  {
   "cell_type": "markdown",
   "id": "b588749e-74c6-43c8-82b6-1ecc3d12e124",
   "metadata": {},
   "source": [
    "**CSV Dosyasından Veri Okuma:**"
   ]
  },
  {
   "cell_type": "code",
   "execution_count": null,
   "id": "2eacd6ad-17ca-4f97-a86e-cf656ac31f19",
   "metadata": {},
   "outputs": [],
   "source": [
    "import pandas as pd\n",
    "\n",
    "# CSV dosyasını okuma\n",
    "df = pd.read_csv('veri.csv')\n",
    "\n",
    "# Veriyi görüntüleme\n",
    "print(df)"
   ]
  },
  {
   "cell_type": "markdown",
   "id": "6e32613b-61ad-4f7d-94e0-078385d74da4",
   "metadata": {},
   "source": [
    "**Excel Dosyasından Veri Okuma:**"
   ]
  },
  {
   "cell_type": "code",
   "execution_count": null,
   "id": "873bd9f4-056b-4726-990c-f89fa38f2d42",
   "metadata": {},
   "outputs": [],
   "source": [
    "import pandas as pd\n",
    "\n",
    "# Excel dosyasını okuma\n",
    "df = pd.read_excel('veri.xlsx', sheet_name='Sheet1')\n",
    "\n",
    "# Veriyi görüntüleme\n",
    "print(df)"
   ]
  },
  {
   "cell_type": "markdown",
   "id": "53a9017d-b01c-45cb-9ed3-95214027855f",
   "metadata": {},
   "source": [
    "**JSON Dosyasından Veri Okuma:**"
   ]
  },
  {
   "cell_type": "code",
   "execution_count": null,
   "id": "696046e6-ee80-4fa5-afb1-7ef8b4345852",
   "metadata": {},
   "outputs": [],
   "source": [
    "import pandas as pd\n",
    "\n",
    "# JSON dosyasını okuma\n",
    "df = pd.read_json('veri.json')\n",
    "\n",
    "# Veriyi görüntüleme\n",
    "print(df)"
   ]
  },
  {
   "cell_type": "markdown",
   "id": "9d1373c0-4627-4be1-8c1c-ac958e7ab1fd",
   "metadata": {},
   "source": [
    "**SQL Veritabanından Veri Okuma:**"
   ]
  },
  {
   "cell_type": "code",
   "execution_count": null,
   "id": "3d5c3845-5a3a-43d8-ad13-c01fc71e1103",
   "metadata": {},
   "outputs": [],
   "source": [
    "import pandas as pd\n",
    "import sqlite3\n",
    "\n",
    "# Veritabanı bağlantısını oluşturma\n",
    "conn = sqlite3.connect('veritabani.db')\n",
    "\n",
    "# SQL sorgusu ile veri çekme\n",
    "query = 'SELECT * FROM tablo'\n",
    "df = pd.read_sql(query, conn)\n",
    "\n",
    "# Veriyi görüntüleme\n",
    "print(df)\n",
    "\n",
    "# Veritabanı bağlantısını kapatma\n",
    "conn.close()\n"
   ]
  },
  {
   "cell_type": "markdown",
   "id": "f0f77c4a-69a1-41a6-a2c3-ef4214afec1b",
   "metadata": {},
   "source": [
    "Farklı formatlardaki verileri Pandas kullanarak okumanıza olanak sağlar. İlgili formatın dosya adını veya bağlantı bilgisini belirterek veri okuma işlemini gerçekleştirebilirsiniz. Okunan veri, bir Pandas veri çerçevesi olarak depolanır ve sonrasında manipülasyon veya analiz için kullanılabilir."
   ]
  },
  {
   "cell_type": "markdown",
   "id": "7b493396-3f55-4fbc-adab-79ef52146486",
   "metadata": {},
   "source": [
    "- **Veri çerçevesini CSV, Excel, JSON, SQL vb. formatlara yazma**"
   ]
  },
  {
   "cell_type": "markdown",
   "id": "21dafb14-139a-477e-b1e5-c7b7636867b3",
   "metadata": {},
   "source": [
    "**Veri Çerçevesini CSV Formatına Yazma:**"
   ]
  },
  {
   "cell_type": "markdown",
   "id": "56605354-ecc5-4d9c-97be-aec6f34066ef",
   "metadata": {},
   "source": [
    "***to_csv()*** fonksiyonu kullanılarak veri çerçevesi CSV formatında belirtilen dosyaya kaydedilir. index=False parametresi, indeks sütununun kaydedilmesini engeller."
   ]
  },
  {
   "cell_type": "code",
   "execution_count": null,
   "id": "f24716fd-1a8b-4761-a56f-4c3718a7ee6a",
   "metadata": {},
   "outputs": [],
   "source": [
    "import pandas as pd\n",
    "\n",
    "# Veri çerçevesini CSV olarak kaydetme\n",
    "df.to_csv('veri.csv', index=False)"
   ]
  },
  {
   "cell_type": "markdown",
   "id": "64b3ed6b-ba31-4226-a15f-65da23ca07ea",
   "metadata": {},
   "source": [
    "**Veri Çerçevesini CSV Formatına Yazma:**"
   ]
  },
  {
   "cell_type": "markdown",
   "id": "71b56e97-33a2-4744-ab23-50f98fdaa3a3",
   "metadata": {},
   "source": [
    "***to_excel()*** fonksiyonu kullanılarak veri çerçevesi Excel formatında belirtilen dosyaya kaydedilir. sheet_name parametresi, Excel sayfasının adını belirtir. index=False parametresi, indeks sütununun kaydedilmesini engeller."
   ]
  },
  {
   "cell_type": "code",
   "execution_count": null,
   "id": "1e8f931a-d1ca-40fe-bcce-939f7bf59abd",
   "metadata": {},
   "outputs": [],
   "source": [
    "import pandas as pd\n",
    "\n",
    "# Veri çerçevesini Excel olarak kaydetme\n",
    "df.to_excel('veri.xlsx', sheet_name='Sheet1', index=False)\n"
   ]
  },
  {
   "cell_type": "markdown",
   "id": "bf5af15a-ba5e-4bb6-9786-d3771a92659a",
   "metadata": {},
   "source": [
    "**Veri Çerçevesini JSON Formatına Yazma:**"
   ]
  },
  {
   "cell_type": "markdown",
   "id": "d0149cc3-3d2c-4b38-99e7-af63b1202fbd",
   "metadata": {},
   "source": [
    "***to_json()*** fonksiyonu kullanılarak veri çerçevesi JSON formatında belirtilen dosyaya kaydedilir. orient='records' parametresi, veriyi kaydederken kaynak sütunlara göre bir liste olarak düzenlemeyi sağlar."
   ]
  },
  {
   "cell_type": "code",
   "execution_count": null,
   "id": "5fb0220e-d7be-4923-8a6a-67385182fdef",
   "metadata": {},
   "outputs": [],
   "source": [
    "import pandas as pd\n",
    "\n",
    "# Veri çerçevesini JSON olarak kaydetme\n",
    "df.to_json('veri.json', orient='records')"
   ]
  },
  {
   "cell_type": "markdown",
   "id": "e54facd1-4d78-4e2f-b20a-083471968fdb",
   "metadata": {},
   "source": [
    "**Veri Çerçevesini SQL Veritabanına Yazma:**"
   ]
  },
  {
   "cell_type": "markdown",
   "id": "86a87615-5823-4f8f-b363-6f1884ae020e",
   "metadata": {},
   "source": [
    "***to_sql()*** fonksiyonu kullanılarak veri çerçevesi SQL veritabanına yazılır. İlk parametre olarak tablo adı verilir. if_exists='replace' parametresi, tablo zaten varsa onu değiştirir. index=False parametresi, indeks sütununun kaydedilmesini engeller."
   ]
  },
  {
   "cell_type": "code",
   "execution_count": null,
   "id": "199fee62-333f-4f7c-a755-8a568a4ae217",
   "metadata": {},
   "outputs": [],
   "source": [
    "import pandas as pd\n",
    "import sqlite3\n",
    "\n",
    "# Veritabanı bağlantısını oluşturma\n",
    "conn = sqlite3.connect('veritabani.db')\n",
    "\n",
    "# Veri çerçevesini SQL veritabanına yazma\n",
    "df.to_sql('tablo', conn, if_exists='replace', index=False)\n",
    "\n",
    "# Veritabanı bağlantısını kapatma\n",
    "conn.close()\n"
   ]
  },
  {
   "cell_type": "markdown",
   "id": "fe4ee926-cf74-4e39-8fbe-a71474d7235e",
   "metadata": {},
   "source": [
    "## 4. Veri Temizleme ve Düzenleme"
   ]
  },
  {
   "cell_type": "markdown",
   "id": "6a6ec6f3-b6d8-487c-86bf-f122b4e856df",
   "metadata": {},
   "source": [
    "Veri temizleme ve düzenleme, veri analizi ve makine öğrenimi gibi veri odaklı işlemler için önemli bir adımdır. İşte veri temizleme ve düzenlemenin önemli nedenleri:\n",
    "    \n",
    "**Veri Kalitesini Artırma:** Veri temizleme ve düzenleme işlemleri, veri setindeki hataları, eksik değerleri, aykırı verileri ve tutarsızlıkları tespit ederek düzeltmeyi amaçlar. Bu sayede veri kalitesi artar ve daha güvenilir sonuçlar elde edilir.\n",
    "\n",
    "**Yanlış veya Eksik Verilerin Düzeltme:** Veri setlerinde yanlış veya eksik veriler olabilir. Bu, el ile girilen hatalı veriler, ölçüm hataları veya eksik veri noktaları olabilir. Veri temizleme ve düzenleme işlemleri, bu hataları tespit ederek düzeltmeyi sağlar veya eksik verileri doldurur.\n",
    "\n",
    "**Aykırı Verilerin Tespiti ve İşleme:** Aykırı veriler, diğer verilere kıyasla önemli ölçüde farklı olan ve genellikle hatalı veya istisnai değerleri temsil eden verilerdir. Aykırı veriler, analiz sonuçlarını yanıltabilir. Veri temizleme ve düzenleme işlemleri, aykırı verileri tespit etmeyi ve uygun şekilde işlemeyi sağlar.\n",
    "\n",
    "**Veri Tutarlılığını Sağlama:** Veri setleri genellikle farklı kaynaklardan veya farklı formatlardan toplanır. Bu nedenle, veri setinde tutarsızlıklar olabilir. Veri temizleme ve düzenleme işlemleri, veri tutarlılığını sağlamak için farklı kaynaklardan gelen verileri birleştirme, veri formatını standartlaştırma ve tutarsızlıkları düzeltme işlemlerini gerçekleştirir.\n",
    "\n",
    "**Analiz ve Modelleme Performansını Artırma:** Veri setlerindeki temizleme ve düzenleme işlemleri, verinin analiz ve modelleme aşamalarında daha iyi performans elde etmeyi sağlar. Temiz ve düzenli veri setleri, daha doğru sonuçlar elde etmek, model performansını artırmak ve daha güvenilir kararlar almak için önemlidir.\n",
    "\n",
    "**Veri Uyumluluğunu Sağlama:** Farklı veri kaynaklarından gelen veriler genellikle farklı formatlarda olabilir. Veri temizleme ve düzenleme işlemleri, veri uyumluluğunu sağlamak için veri formatlarını dönüştürme, veri tiplerini uyarlama ve veri birleştirme gibi işlemleri gerçekleştirir."
   ]
  },
  {
   "cell_type": "markdown",
   "id": "3ba96594-7c05-4787-bcc3-a8b88b369bbe",
   "metadata": {},
   "source": [
    "Veri temizleme ve düzenleme işlemleri, verinin sağlıklı bir şekilde analiz edilmesi ve makine öğrenimi modellerinin doğru çalışması için kritik öneme sahiptir. Bu işlemler, veri setinin güvenilirliğini artırır, analiz sonuçlarının doğruluğunu sağlar ve veri tabanlı karar verme süreçlerinde güvenilir bir temel oluşturur."
   ]
  },
  {
   "cell_type": "markdown",
   "id": "3c11fe84-bc01-4fe8-803d-a9bba6009529",
   "metadata": {},
   "source": [
    "Projelerimizde bulunan eksik verilerle ilgili şu işlemleri yapabiliriz. "
   ]
  },
  {
   "cell_type": "markdown",
   "id": "905610bf-6dcb-4124-9ac2-98617d3485e0",
   "metadata": {},
   "source": [
    "- **Eksik verilerle başa çıkma**"
   ]
  },
  {
   "cell_type": "markdown",
   "id": "22b20fa7-2e2f-42dd-9ef7-d4a4e134e63b",
   "metadata": {},
   "source": [
    "Hangi yöntemin kullanılacağı, verinin yapısına, amaca ve analiz senaryosuna bağlı olarak belirlenmelidir. Projelerimizde bulunan eksik verilerle ilgili şu işlemleri yapabiliriz. "
   ]
  },
  {
   "cell_type": "markdown",
   "id": "377fadff-1674-4deb-ac48-f2b00c6213a4",
   "metadata": {},
   "source": [
    "***1. Eksik Verileri Silme:***"
   ]
  },
  {
   "cell_type": "code",
   "execution_count": 1,
   "id": "3c4bbb2a-9236-43fd-b83f-4f1bfc04ef22",
   "metadata": {},
   "outputs": [
    {
     "name": "stdout",
     "output_type": "stream",
     "text": [
      "     A    B\n",
      "1  2.0  6.0\n",
      "4  5.0  9.0\n"
     ]
    }
   ],
   "source": [
    "import pandas as pd\n",
    "\n",
    "# Veri çerçevesini oluşturma\n",
    "df = pd.DataFrame({'A': [1, 2, None, 4, 5],\n",
    "                   'B': [None, 6, 7, None, 9]})\n",
    "\n",
    "# Eksik verileri silme\n",
    "df.dropna(inplace=True)\n",
    "\n",
    "# Sonucu görüntüleme\n",
    "print(df)"
   ]
  },
  {
   "cell_type": "markdown",
   "id": "804b6662-d776-4253-abdf-52b83d204f08",
   "metadata": {},
   "source": [
    "***dropna()*** fonksiyonu kullanılarak eksik verilere sahip satırlar veya sütunlar silinir. inplace=True parametresi, işlemi veri çerçevesi üzerinde gerçekleştirir ve orijinal veri çerçevesini değiştirir."
   ]
  },
  {
   "cell_type": "markdown",
   "id": "1e2b4c33-d65f-497e-a61d-b09dcd12b9a9",
   "metadata": {},
   "source": [
    "***2. Eksik Verileri Doldurma:***"
   ]
  },
  {
   "cell_type": "code",
   "execution_count": 3,
   "id": "3fa74d1b-c57b-45df-9e76-b89507c83205",
   "metadata": {},
   "outputs": [
    {
     "name": "stdout",
     "output_type": "stream",
     "text": [
      "     A    B\n",
      "0  1.0  0.0\n",
      "1  2.0  6.0\n",
      "2  0.0  7.0\n",
      "3  4.0  0.0\n",
      "4  5.0  9.0\n"
     ]
    }
   ],
   "source": [
    "import pandas as pd\n",
    "\n",
    "# Veri çerçevesini oluşturma\n",
    "df = pd.DataFrame({'A': [1, 2, None, 4, 5],\n",
    "                   'B': [None, 6, 7, None, 9]})\n",
    "\n",
    "# Eksik verileri belirli bir değerle doldurma\n",
    "df.fillna(0, inplace=True)\n",
    "\n",
    "# Sonucu görüntüleme\n",
    "print(df)"
   ]
  },
  {
   "cell_type": "markdown",
   "id": "50dc4111-5d6b-4bc2-9cba-865e30176ab7",
   "metadata": {},
   "source": [
    "***fillna()*** fonksiyonu kullanılarak eksik veriler belirli bir değerle doldurulur. Yukarıdaki örnekte, eksik veriler 0 değeriyle doldurulmuştur."
   ]
  },
  {
   "cell_type": "markdown",
   "id": "b17eb7c9-8f8e-4c31-9821-6333bc1ef794",
   "metadata": {},
   "source": [
    "***3. Eksik Verileri Ortalama Değerle Doldurma:***"
   ]
  },
  {
   "cell_type": "code",
   "execution_count": 4,
   "id": "a6857ad6-6efe-408c-a00b-5e49dbb242cd",
   "metadata": {},
   "outputs": [
    {
     "name": "stdout",
     "output_type": "stream",
     "text": [
      "     A         B\n",
      "0  1.0  7.333333\n",
      "1  2.0  6.000000\n",
      "2  3.0  7.000000\n",
      "3  4.0  7.333333\n",
      "4  5.0  9.000000\n"
     ]
    }
   ],
   "source": [
    "import pandas as pd\n",
    "\n",
    "# Veri çerçevesini oluşturma\n",
    "df = pd.DataFrame({'A': [1, 2, None, 4, 5],\n",
    "                   'B': [None, 6, 7, None, 9]})\n",
    "\n",
    "# Sütunlardaki eksik verileri sütunun ortalamasıyla doldurma\n",
    "df['A'].fillna(df['A'].mean(), inplace=True)\n",
    "df['B'].fillna(df['B'].mean(), inplace=True)\n",
    "\n",
    "# Sonucu görüntüleme\n",
    "print(df)"
   ]
  },
  {
   "cell_type": "markdown",
   "id": "4502b36e-b914-4c09-b95e-8cba3a14601d",
   "metadata": {},
   "source": [
    "Sütunlardaki eksik veriler, sütunun ortalamasıyla doldurulur. ***mean()*** fonksiyonu kullanılarak sütunun ortalaması hesaplanır ve eksik veriler bu değerle doldurulur."
   ]
  },
  {
   "cell_type": "markdown",
   "id": "e3a13afe-11d5-49be-96f3-2a5b3f9d759a",
   "metadata": {},
   "source": [
    "***4. Eksik Verileri İleriye Doğru Doldurma:***"
   ]
  },
  {
   "cell_type": "code",
   "execution_count": 6,
   "id": "68b17288-60ae-4723-9e2f-fed14030d345",
   "metadata": {},
   "outputs": [
    {
     "name": "stdout",
     "output_type": "stream",
     "text": [
      "     A    B\n",
      "0  1.0  NaN\n",
      "1  2.0  6.0\n",
      "2  2.0  6.0\n",
      "3  2.0  6.0\n",
      "4  5.0  9.0\n"
     ]
    }
   ],
   "source": [
    "import pandas as pd\n",
    "\n",
    "# Veri çerçevesini oluşturma\n",
    "df = pd.DataFrame({'A': [1, 2, None, None, 5],\n",
    "                   'B': [None, 6, None, None, 9]})\n",
    "\n",
    "# Eksik verileri ileriye doğru doldurma\n",
    "df.fillna(method='ffill', inplace=True)\n",
    "\n",
    "# Sonucu görüntüleme\n",
    "print(df)"
   ]
  },
  {
   "cell_type": "markdown",
   "id": "66a47b63-2d9f-41df-9e51-9da943aa32e8",
   "metadata": {},
   "source": [
    "***fillna()*** fonksiyonunda ***method='ffill'*** parametresi kullanılarak eksik veriler, mevcut verinin bir sonraki değeriyle doldurulur."
   ]
  },
  {
   "cell_type": "markdown",
   "id": "0b5918a7-b72b-4203-b6ae-594105d8d444",
   "metadata": {},
   "source": [
    "***5. Eksik Verileri Geriye Doğru Doldurma:***"
   ]
  },
  {
   "cell_type": "markdown",
   "id": "5c4ee844-f901-47db-b2fc-ed30cf96f1e2",
   "metadata": {},
   "source": [
    "***fillna()*** fonksiyonunda ***method='bfill'*** parametresi kullanılarak eksik veriler, mevcut verinin bir önceki değeriyle doldurulur. Bu yöntem, zaman serileri veya ardışık değerlere sahip verilerin doldurulmasında kullanışlı olabilir."
   ]
  },
  {
   "cell_type": "markdown",
   "id": "f10751d9-d275-4800-bb35-646a394f5df2",
   "metadata": {},
   "source": [
    "Eksik verileri ileriye veya geriye doğru doldurma yöntemleri, eksik değerleri yakınsayan değerlerle doldurarak veri setinin tutarlılığını korur."
   ]
  },
  {
   "cell_type": "markdown",
   "id": "c844c085-1dba-4c2c-ab92-bfa1f8a455a0",
   "metadata": {},
   "source": [
    "- **Veri türlerini dönüştürme**"
   ]
  },
  {
   "cell_type": "markdown",
   "id": "c1430f95-1ed2-41e2-9b2d-ee650b358311",
   "metadata": {},
   "source": [
    "Veri türlerini doğru şekilde dönüştürmek, veri analizi ve işleme süreçlerinde verinin doğruluğunu, uyumluluğunu, bellek kullanımını ve görselleştirmelerin etkinliğini sağlar. Bu nedenle, veri türü dönüşümleri veri yönetimi ve veri analitiği süreçlerinin önemli bir parçasıdır."
   ]
  },
  {
   "cell_type": "markdown",
   "id": "551d6240-23d6-4079-8bdc-331d7a054ffb",
   "metadata": {},
   "source": [
    "***1.Veri Türlerini Dönüştürme:*** "
   ]
  },
  {
   "cell_type": "code",
   "execution_count": 8,
   "id": "f1cbb3d7-94fd-4960-b312-3cbd1a8985f7",
   "metadata": {},
   "outputs": [
    {
     "name": "stdout",
     "output_type": "stream",
     "text": [
      "     A  B  C\n",
      "0  1.0  4  7\n",
      "1  2.0  5  8\n",
      "2  3.0  6  9\n"
     ]
    }
   ],
   "source": [
    "import pandas as pd\n",
    "\n",
    "# Veri çerçevesini oluşturma\n",
    "df = pd.DataFrame({'A': [1, 2, 3],\n",
    "                   'B': [4.5, 5.6, 6.7],\n",
    "                   'C': ['7', '8', '9']})\n",
    "\n",
    "# Sütunları veri türlerini dönüştürme\n",
    "df['A'] = df['A'].astype(float)  # A sütunu int'ten float'a dönüştürülüyor\n",
    "df['B'] = df['B'].astype(int)    # B sütunu float'tan int'e dönüştürülüyor\n",
    "df['C'] = df['C'].astype(str)    # C sütunu string olarak kalıyor\n",
    "\n",
    "# Veri çerçevesini görüntüleme\n",
    "print(df)\n"
   ]
  },
  {
   "cell_type": "markdown",
   "id": "f4adbbd1-2600-44d0-bcb0-6de1ad496c6d",
   "metadata": {},
   "source": [
    "Yukarıdaki örnekte, ***astype()*** fonksiyonu kullanılarak A sütunu int veri türünden float veri türüne, B sütunu float veri türünden int veri türüne dönüştürülüyor. C sütunu ise zaten string olarak tanımlanmış olduğu için herhangi bir dönüşüme gerek duyulmuyor."
   ]
  },
  {
   "cell_type": "markdown",
   "id": "4e869bd9-28ed-441b-9809-0d7491702cab",
   "metadata": {},
   "source": [
    "***2.Tarih ve Saat Dönüşümleri:***"
   ]
  },
  {
   "cell_type": "code",
   "execution_count": 10,
   "id": "77673033-7a99-496a-ac43-ac7de392f87e",
   "metadata": {},
   "outputs": [
    {
     "name": "stdout",
     "output_type": "stream",
     "text": [
      "       Tarih      Saat\n",
      "0 2021-01-01  12:00:00\n",
      "1 2022-02-02  13:30:00\n",
      "2 2023-03-03  15:45:00\n"
     ]
    }
   ],
   "source": [
    "import pandas as pd\n",
    "\n",
    "# Veri çerçevesini oluşturma\n",
    "df = pd.DataFrame({'Tarih': ['2021-01-01', '2022-02-02', '2023-03-03'],\n",
    "                   'Saat': ['12:00:00', '13:30:00', '15:45:00']})\n",
    "\n",
    "# Tarih ve saat sütunlarını uygun veri türlerine dönüştürme\n",
    "df['Tarih'] = pd.to_datetime(df['Tarih'])\n",
    "df['Saat'] = pd.to_datetime(df['Saat'], format='%H:%M:%S').dt.time\n",
    "\n",
    "# Veri çerçevesini görüntüleme\n",
    "print(df)"
   ]
  },
  {
   "cell_type": "markdown",
   "id": "050c3ff3-1d50-4c82-b076-82bc7220dc95",
   "metadata": {},
   "source": [
    "Yukarıdaki örnekte, ***to_datetime()*** fonksiyonu kullanılarak Tarih sütunu datetime64 veri türüne dönüştürülüyor. Saat sütunu ise önce to_datetime() fonksiyonu ile datetime64 veri türüne dönüştür"
   ]
  },
  {
   "cell_type": "markdown",
   "id": "7395bb06-ed4e-4f45-a0fe-8b166d9a7fd6",
   "metadata": {},
   "source": [
    "- ***Veri çerçevesinde sütunları yeniden şekillendirme ve dönüştürme***"
   ]
  },
  {
   "cell_type": "markdown",
   "id": "efe836b6-9f16-46b9-839e-ec5b35d8c9a8",
   "metadata": {},
   "source": [
    "Veri çerçevesinde sütunları yeniden şekillendirme ve dönüştürme işlemleri, verinin analizi, işlenmesi veya raporlanması için gereken uygun formata getirilmesini sağlar."
   ]
  },
  {
   "cell_type": "markdown",
   "id": "44ab7ed0-c82a-42a4-8f82-9fb73d0833f6",
   "metadata": {},
   "source": [
    "***1. Sütunları Dönüştürme:***"
   ]
  },
  {
   "cell_type": "code",
   "execution_count": 11,
   "id": "23430723-9a98-4f5a-abf8-1b140bbcdb42",
   "metadata": {},
   "outputs": [
    {
     "name": "stdout",
     "output_type": "stream",
     "text": [
      "  Kategori  Değer Yeni_Kategori\n",
      "0        A     10             a\n",
      "1        B     20             b\n",
      "2        C     30             c\n"
     ]
    }
   ],
   "source": [
    "import pandas as pd\n",
    "\n",
    "# Veri çerçevesini oluşturma\n",
    "df = pd.DataFrame({'Kategori': ['A', 'B', 'C'],\n",
    "                   'Değer': [10, 20, 30]})\n",
    "\n",
    "# Sütunları dönüştürme\n",
    "df['Yeni_Kategori'] = df['Kategori'].apply(lambda x: x.lower())  # Kategori sütununu küçük harfe dönüştürme\n",
    "\n",
    "# Veri çerçevesini görüntüleme\n",
    "print(df)\n"
   ]
  },
  {
   "cell_type": "markdown",
   "id": "612b9281-2dbb-4b52-bfa3-3870fcebf740",
   "metadata": {},
   "source": [
    "Yukarıdaki örnekte, apply() fonksiyonu ve bir lambda ifadesi kullanılarak Kategori sütunu küçük harfe dönüştürülerek Yeni_Kategori sütunu oluşturulur."
   ]
  },
  {
   "cell_type": "markdown",
   "id": "ed60e715-9acc-4a6f-96fb-61719d9c9cf3",
   "metadata": {},
   "source": [
    "***2. Sütunları Yeniden Şekillendirme:***"
   ]
  },
  {
   "cell_type": "code",
   "execution_count": 12,
   "id": "7e0bbcab-b723-4093-9032-e7f78a59b37c",
   "metadata": {},
   "outputs": [
    {
     "name": "stdout",
     "output_type": "stream",
     "text": [
      "Ders     Fizik  Kimya  Matematik\n",
      "Öğrenci                         \n",
      "Ali        NaN    NaN       90.0\n",
      "Ayşe      85.0    NaN        NaN\n",
      "Mehmet     NaN   95.0        NaN\n"
     ]
    }
   ],
   "source": [
    "import pandas as pd\n",
    "\n",
    "# Veri çerçevesini oluşturma\n",
    "df = pd.DataFrame({'Öğrenci': ['Ali', 'Ayşe', 'Mehmet'],\n",
    "                   'Ders': ['Matematik', 'Fizik', 'Kimya'],\n",
    "                   'Not': [90, 85, 95]})\n",
    "\n",
    "# Sütunları yeniden şekillendirme\n",
    "df_pivot = df.pivot(index='Öğrenci', columns='Ders', values='Not')  # Dersleri sütunlara, öğrencileri satırlara dönüştürme\n",
    "\n",
    "# Veri çerçevesini görüntüleme\n",
    "print(df_pivot)\n"
   ]
  },
  {
   "cell_type": "markdown",
   "id": "364bd8bb-bfde-4682-a90a-31d4d51ae50e",
   "metadata": {},
   "source": [
    "Yukarıdaki örnekte, ***pivot()*** fonksiyonu kullanılarak Ders sütunu sütunlara, Öğrenci sütunu ise satırlara dönüştürülerek yeni bir veri çerçevesi oluşturulur. Bu işlem, her öğrencinin aldığı ders notlarını daha düzenli bir şekilde göstermek için kullanılır."
   ]
  },
  {
   "cell_type": "markdown",
   "id": "93371c89-0538-43ab-9c27-ff3466e11f11",
   "metadata": {},
   "source": [
    "***3. Sütunları Birleştirme:***"
   ]
  },
  {
   "cell_type": "code",
   "execution_count": 13,
   "id": "acc924b5-9e38-4219-b6df-7f1465f3528e",
   "metadata": {},
   "outputs": [
    {
     "name": "stdout",
     "output_type": "stream",
     "text": [
      "  Öğrenci  Ders1  Ders2\n",
      "0     Ali     90     80\n",
      "1    Ayşe     85     75\n",
      "2  Mehmet     95     85\n"
     ]
    }
   ],
   "source": [
    "import pandas as pd\n",
    "\n",
    "# Veri çerçevesini oluşturma\n",
    "df1 = pd.DataFrame({'Öğrenci': ['Ali', 'Ayşe', 'Mehmet'],\n",
    "                    'Ders1': [90, 85, 95]})\n",
    "\n",
    "df2 = pd.DataFrame({'Öğrenci': ['Ali', 'Ayşe', 'Mehmet'],\n",
    "                    'Ders2': [80, 75, 85]})\n",
    "\n",
    "# Sütunları birleştirme\n",
    "df_merged = pd.merge(df1, df2, on='Öğrenci')  # Öğrenci sütunu üzerinde birleştirme\n",
    "\n",
    "# Veri çerçevesini görüntüleme\n",
    "print(df_merged)\n"
   ]
  },
  {
   "cell_type": "markdown",
   "id": "be8526d6-14ee-4a36-9f2d-5ff5eed30bec",
   "metadata": {},
   "source": [
    "Yukarıdaki örnekte, ***merge()*** fonksiyonu kullanılarak iki ayrı veri çerçevesi df1 ve df2 öğrencilere ait ders notlarını içerir. Bu iki çerçeve, Öğrenci sütunu üzerinde birleştirilerek tek bir veri çerçevesi oluşturulur."
   ]
  },
  {
   "cell_type": "markdown",
   "id": "4ee5c5ca-da3c-4da4-888c-2a7539cc80f9",
   "metadata": {},
   "source": [
    "- ***Veri çerçevesinde sütunları yeniden şekillendirme ve dönüştürme***"
   ]
  },
  {
   "cell_type": "markdown",
   "id": "d6cb930c-a434-4778-984a-8a029a1b3823",
   "metadata": {},
   "source": [
    "- ***Veri çerçevesindeki tekrar eden veya gereksiz verileri kaldırma***\n",
    "\n",
    "Veri çerçevesinde sütunları yeniden şekillendirme ve dönüştürme işlemleri, verileri farklı bir düzen veya format içinde yeniden yapılandırmak veya dönüştürmek için kullanılır. Bu işlemler, veri analizi ve raporlama için gereken veri formatını oluşturmak veya mevcut veriyi daha iyi anlamak için yapılır"
   ]
  },
  {
   "cell_type": "markdown",
   "id": "a4c4e488-e075-4a99-9caf-dca5270a382b",
   "metadata": {},
   "source": [
    "Veri çerçevesindeki tekrar eden veya gereksiz verileri kaldırma işlemi, verinin temizlenmesi ve veri analizi veya işleme süreçlerinde daha doğru sonuçlar elde etmek için yapılır. Bu işlem veri tutarsızlığını giderme, analiz ve modelleme doğruluğunu artırma, veri boyutunu azaltma gibi nedenlerle gerçekleştirilir:"
   ]
  },
  {
   "cell_type": "code",
   "execution_count": 15,
   "id": "5aed5c27-ac91-4fdb-89e7-6c8167f7ac9e",
   "metadata": {},
   "outputs": [
    {
     "name": "stdout",
     "output_type": "stream",
     "text": [
      "  Kategori  Değer\n",
      "0        A     10\n",
      "1        B     20\n",
      "2        C     30\n",
      "4        B     40\n"
     ]
    }
   ],
   "source": [
    "import pandas as pd\n",
    "\n",
    "# Veri çerçevesini oluşturma\n",
    "df = pd.DataFrame({'Kategori': ['A', 'B', 'C', 'A', 'B'],\n",
    "                   'Değer': [10, 20, 30, 10, 40]})\n",
    "\n",
    "# Tekrar eden verileri kaldırma\n",
    "df_unique = df.drop_duplicates()\n",
    "\n",
    "# Veri çerçevesini görüntüleme\n",
    "print(df_unique)\n"
   ]
  },
  {
   "cell_type": "markdown",
   "id": "bd74c1b4-042f-4592-96d9-762218b3579f",
   "metadata": {},
   "source": [
    "Yukarıdaki örnekte, drop_duplicates() fonksiyonu kullanılarak df veri çerçevesinde tekrar eden satırlar kaldırılır ve df_unique adında yeni bir veri çerçevesi oluşturulur. Bu işlem, aynı kategoriye sahip tekrar eden verilerin kaldırılmasını sağlar."
   ]
  },
  {
   "cell_type": "markdown",
   "id": "f411a007-1675-473f-ba2a-367fa10fb224",
   "metadata": {},
   "source": [
    "# 5. Veri Analizi ve İstatistiksel Hesaplamalar"
   ]
  },
  {
   "cell_type": "markdown",
   "id": "5ce4412d-7535-4d90-b7fd-19c779e638c8",
   "metadata": {},
   "source": [
    "## Temel istatistiksel hesaplamaları gerçekleştirme"
   ]
  },
  {
   "cell_type": "markdown",
   "id": "9d426aa7-0be6-47f3-90ac-3602d0f9a6ee",
   "metadata": {},
   "source": [
    "Temel istatistiksel hesaplamalar, veri analizinde sıkça kullanılan ve veri setinin özelliklerini anlamak için yapılan hesaplamalardır. Pandas, bu hesaplamaları gerçekleştirmek için bir dizi işlev ve yöntem sunar. Temel istatistiksel hesaplamaları gerçekleştirmek için kullanabileceğiniz bazı işlemler:"
   ]
  },
  {
   "cell_type": "markdown",
   "id": "b27dc581-ef82-4d9f-9252-36ebb7834633",
   "metadata": {},
   "source": [
    "- **describe():** Veri çerçevesinin istatistiksel özetini sağlar. Bu işlev, veri setinin sayısal sütunları için temel istatistiksel değerleri (count, mean, std, min, max, vb.) ve dağılımı gösterir.\n",
    "\n",
    "- **mean():** Sütundaki sayısal değerlerin ortalamasını hesaplar.\n",
    "\n",
    "- **median():** Sütundaki sayısal değerlerin ortanca değerini hesaplar.\n",
    "\n",
    "- **mode():** Sütundaki sayısal değerlerin modunu (en sık geçen değer) hesaplar.\n",
    "\n",
    "- **sum():** Sütundaki sayısal değerlerin toplamını hesaplar.\n",
    "\n",
    "- **min():** Sütundaki en küçük sayısal değeri bulur.\n",
    "\n",
    "- **max():** Sütundaki en büyük sayısal değeri bulur.\n",
    "\n",
    "- **std():** Sütundaki sayısal değerlerin standart sapmasını hesaplar.\n",
    "\n",
    "- **var():** Sütundaki sayısal değerlerin varyansını hesaplar.\n",
    "\n",
    "- **count():** Sütundaki toplam değer sayısını hesaplar.\n",
    "\n",
    "- **quantile():** Sütundaki sayısal değerlerin belirli yüzdelik dilimlerini hesaplar.\n",
    "\n",
    "- **corr():** Sütunlar arasındaki korelasyon matrisini hesaplar."
   ]
  },
  {
   "cell_type": "code",
   "execution_count": 4,
   "id": "24c5620c-2e9b-477c-9525-15ccb37bb43b",
   "metadata": {},
   "outputs": [
    {
     "name": "stdout",
     "output_type": "stream",
     "text": [
      "  Öğrenci       Ders  Not\n",
      "0     Ali  Matematik   90\n",
      "1    Ayşe      Fizik   85\n",
      "2  Mehmet      Kimya   95\n",
      "3   Ahmet  Matematik   75\n",
      "4   Aylin      Fizik   80\n",
      "Ortalama: 86.1\n",
      "Medyan: 86.5\n",
      "Mod: 0    90\n",
      "Name: Not, dtype: int64\n",
      "Toplam: 1722\n",
      "En Küçük Değer: 75\n",
      "En Büyük Değer: 95\n",
      "Standart Sapma: 5.739062824648564\n",
      "Varyans: 32.93684210526315\n",
      "Toplam Sayı: 20\n",
      "Yüzdelik Dilimler:\n",
      "0.25    81.75\n",
      "0.50    86.50\n",
      "0.75    90.25\n",
      "Name: Not, dtype: float64\n",
      "Korelasyon: 0.9999999999999999\n"
     ]
    }
   ],
   "source": [
    "import pandas as pd\n",
    "\n",
    "data = {\n",
    "    'Öğrenci': ['Ali', 'Ayşe', 'Mehmet', 'Ahmet', 'Aylin', 'Mustafa', 'Ebru', 'Can', 'Deniz', 'Gizem',\n",
    "                'İbrahim', 'Elif', 'Burak', 'Fatma', 'Emre', 'Ceren', 'Gül', 'Kadir', 'İrem', 'Ozan'],\n",
    "    'Ders': ['Matematik', 'Fizik', 'Kimya', 'Matematik', 'Fizik', 'Kimya', 'Matematik', 'Fizik', 'Kimya',\n",
    "             'Matematik', 'Fizik', 'Kimya', 'Matematik', 'Fizik', 'Kimya', 'Matematik', 'Fizik', 'Kimya',\n",
    "             'Matematik', 'Fizik'],\n",
    "    'Not': [90, 85, 95, 75, 80, 92, 87, 88, 93, 82, 79, 91, 86, 89, 78, 83, 94, 81, 84, 90]\n",
    "}\n",
    "\n",
    "df = pd.DataFrame(data)\n",
    "\n",
    "# Veri çerçevesinin ilk 5 satırını gösterme\n",
    "print(df.head())\n",
    "\n",
    "# Not sütununun ortalaması\n",
    "mean = df['Not'].mean()\n",
    "print(\"Ortalama:\", mean)\n",
    "\n",
    "# Not sütununun medyanı\n",
    "median = df['Not'].median()\n",
    "print(\"Medyan:\", median)\n",
    "\n",
    "# Not sütununun modu\n",
    "mode = df['Not'].mode()\n",
    "print(\"Mod:\", mode)\n",
    "\n",
    "# Not sütununun toplamı\n",
    "total = df['Not'].sum()\n",
    "print(\"Toplam:\", total)\n",
    "\n",
    "# Not sütununun en küçük değeri\n",
    "min_value = df['Not'].min()\n",
    "print(\"En Küçük Değer:\", min_value)\n",
    "\n",
    "# Not sütununun en büyük değeri\n",
    "max_value = df['Not'].max()\n",
    "print(\"En Büyük Değer:\", max_value)\n",
    "\n",
    "# Not sütununun standart sapması\n",
    "std = df['Not'].std()\n",
    "print(\"Standart Sapma:\", std)\n",
    "\n",
    "# Not sütununun varyansı\n",
    "var = df['Not'].var()\n",
    "print(\"Varyans:\", var)\n",
    "\n",
    "# Not sütununda kaç adet değer var\n",
    "count = df['Not'].count()\n",
    "print(\"Toplam Sayı:\", count)\n",
    "\n",
    "# Not sütununun yüzdelik dilimleri (25%, 50%, 75%)\n",
    "quantiles = df['Not'].quantile([0.25, 0.50, 0.75])\n",
    "print(\"Yüzdelik Dilimler:\")\n",
    "print(quantiles)\n",
    "\n",
    "# Not sütununun korelasyon matrisi\n",
    "correlation = df['Not'].corr(df['Not'])\n",
    "print(\"Korelasyon:\", correlation)\n"
   ]
  },
  {
   "cell_type": "markdown",
   "id": "41a1e1ab-a8df-4fef-ba9e-aac827024e2a",
   "metadata": {},
   "source": [
    "Bu kod, df['Not'] üzerinde temel istatistiksel hesaplamaları gerçekleştirir. Standart sapma, varyans ve toplam sayıya ek olarak, yüzdelik dilimleri ve korelasyon matrisini de hesaplarız."
   ]
  },
  {
   "cell_type": "markdown",
   "id": "601ed886-8983-485d-b440-cd5188b727b1",
   "metadata": {},
   "source": [
    "## Veri gruplama ve toplulaştırma (groupby)\n",
    "\n",
    "Veri gruplama, belirli bir kriter veya sütuna göre verileri gruplara ayırırken, toplulaştırma işlemi ise her bir grup için istatistiksel hesaplamalar yapmayı sağlar. Bu yöntemler sayesinde veriler daha anlaşılır hale gelir, gruplar arasındaki farklılıklar ve örüntüler ortaya çıkar ve genel bir bakış açısı elde edilir. Veri gruplama ve toplulaştırma, verilerin özetlenmesi, analiz edilmesi ve karar verme süreçlerinde önemli bilgilerin elde edilmesini sağlar."
   ]
  },
  {
   "cell_type": "markdown",
   "id": "95ea2c78-9a82-4f5e-85d4-b2cd854f7b8a",
   "metadata": {},
   "source": [
    "Bu örnekte \"Ders\" sütununa göre gruplama yapacağız."
   ]
  },
  {
   "cell_type": "code",
   "execution_count": 10,
   "id": "f4a743cb-fb2a-43a1-a28b-11d823c0fc8b",
   "metadata": {},
   "outputs": [
    {
     "name": "stdout",
     "output_type": "stream",
     "text": [
      "Derslere Göre Ortalamalar:\n",
      "Ders\n",
      "Fizik        86.428571\n",
      "Kimya        88.333333\n",
      "Matematik    83.857143\n",
      "Name: Not, dtype: float64\n",
      "Derslere En Düşük Notlar:\n",
      "Ders\n",
      "Fizik        79\n",
      "Kimya        78\n",
      "Matematik    75\n",
      "Name: Not, dtype: int64\n",
      "Derslere Göre En Yüksek Notlar:\n",
      "Ders\n",
      "Fizik        94\n",
      "Kimya        95\n",
      "Matematik    90\n",
      "Name: Not, dtype: int64\n"
     ]
    }
   ],
   "source": [
    "import pandas as pd\n",
    "\n",
    "data = {\n",
    "    'Öğrenci': ['Ali', 'Ayşe', 'Mehmet', 'Ahmet', 'Aylin', 'Mustafa', 'Ebru', 'Can', 'Deniz', 'Gizem',\n",
    "                'İbrahim', 'Elif', 'Burak', 'Fatma', 'Emre', 'Ceren', 'Gül', 'Kadir', 'İrem', 'Ozan'],\n",
    "    'Ders': ['Matematik', 'Fizik', 'Kimya', 'Matematik', 'Fizik', 'Kimya', 'Matematik', 'Fizik', 'Kimya',\n",
    "             'Matematik', 'Fizik', 'Kimya', 'Matematik', 'Fizik', 'Kimya', 'Matematik', 'Fizik', 'Kimya',\n",
    "             'Matematik', 'Fizik'],\n",
    "    'Not': [90, 85, 95, 75, 80, 92, 87, 88, 93, 82, 79, 91, 86, 89, 78, 83, 94, 81, 84, 90]\n",
    "}\n",
    "\n",
    "df = pd.DataFrame(data)\n",
    "\n",
    "# Derslere göre gruplama yapma ve ortalamaları hesaplama\n",
    "ders_gruplari = df.groupby('Ders')\n",
    "ortalama = ders_gruplari['Not'].mean()\n",
    "print(\"Derslere Göre Ortalamalar:\")\n",
    "print(ortalama)\n",
    "\n",
    "# Derslere göre gruplama yapma ve en düşük notları hesaplama\n",
    "toplam_notlar = ders_gruplari['Not'].min()\n",
    "print(\"Derslere En Düşük Notlar:\")\n",
    "print(toplam_notlar)\n",
    "\n",
    "# Derslere göre gruplama yapma ve en yüksek notları hesaplama\n",
    "en_yuksek_notlar = ders_gruplari['Not'].max()\n",
    "print(\"Derslere Göre En Yüksek Notlar:\")\n",
    "print(en_yuksek_notlar)"
   ]
  },
  {
   "cell_type": "markdown",
   "id": "ccc32064-f6d8-4713-a98e-58f06a183629",
   "metadata": {},
   "source": [
    "Bu örnekte \"Ders\" sütununa göre gruplama yaparak farklı toplulaştırma işlemlerini yaptık. Örneğin, derslere göre not ortalamalarını, en düşük veya en yüksek notları hesaplayabilirsiniz."
   ]
  },
  {
   "cell_type": "markdown",
   "id": "9ea1706f-2057-4555-97bc-191c98981710",
   "metadata": {},
   "source": [
    "## Veri sıralama ve filtreleme\n",
    "\n",
    "Veri sıralama, veri setindeki desenleri, trendleri veya en yüksek/en düşük değerleri belirlemek için kullanılırken, veri filtreleme belirli bir kriteri karşılayan verilerin seçilmesini sağlar."
   ]
  },
  {
   "cell_type": "code",
   "execution_count": 11,
   "id": "93e96bcc-7b6d-452c-a450-d8d989c88fd5",
   "metadata": {},
   "outputs": [
    {
     "name": "stdout",
     "output_type": "stream",
     "text": [
      "Notlara Göre Sıralı Veri:\n",
      "    Öğrenci       Ders  Not\n",
      "2    Mehmet      Kimya   95\n",
      "16      Gül      Fizik   94\n",
      "8     Deniz      Kimya   93\n",
      "5   Mustafa      Kimya   92\n",
      "11     Elif      Kimya   91\n",
      "0       Ali  Matematik   90\n",
      "19     Ozan      Fizik   90\n",
      "13    Fatma      Fizik   89\n",
      "7       Can      Fizik   88\n",
      "6      Ebru  Matematik   87\n",
      "12    Burak  Matematik   86\n",
      "1      Ayşe      Fizik   85\n",
      "18     İrem  Matematik   84\n",
      "15    Ceren  Matematik   83\n",
      "9     Gizem  Matematik   82\n",
      "17    Kadir      Kimya   81\n",
      "4     Aylin      Fizik   80\n",
      "10  İbrahim      Fizik   79\n",
      "14     Emre      Kimya   78\n",
      "3     Ahmet  Matematik   75\n",
      "Matematik Dersine Ait Veriler:\n",
      "   Öğrenci       Ders  Not\n",
      "0      Ali  Matematik   90\n",
      "3    Ahmet  Matematik   75\n",
      "6     Ebru  Matematik   87\n",
      "9    Gizem  Matematik   82\n",
      "12   Burak  Matematik   86\n",
      "15   Ceren  Matematik   83\n",
      "18    İrem  Matematik   84\n",
      "85'ten Büyük Nota Sahip Öğrenciler:\n",
      "    Öğrenci       Ders  Not\n",
      "0       Ali  Matematik   90\n",
      "2    Mehmet      Kimya   95\n",
      "5   Mustafa      Kimya   92\n",
      "6      Ebru  Matematik   87\n",
      "7       Can      Fizik   88\n",
      "8     Deniz      Kimya   93\n",
      "11     Elif      Kimya   91\n",
      "12    Burak  Matematik   86\n",
      "13    Fatma      Fizik   89\n",
      "16      Gül      Fizik   94\n",
      "19     Ozan      Fizik   90\n"
     ]
    }
   ],
   "source": [
    "import pandas as pd\n",
    "\n",
    "data = {\n",
    "    'Öğrenci': ['Ali', 'Ayşe', 'Mehmet', 'Ahmet', 'Aylin', 'Mustafa', 'Ebru', 'Can', 'Deniz', 'Gizem',\n",
    "                'İbrahim', 'Elif', 'Burak', 'Fatma', 'Emre', 'Ceren', 'Gül', 'Kadir', 'İrem', 'Ozan'],\n",
    "    'Ders': ['Matematik', 'Fizik', 'Kimya', 'Matematik', 'Fizik', 'Kimya', 'Matematik', 'Fizik', 'Kimya',\n",
    "             'Matematik', 'Fizik', 'Kimya', 'Matematik', 'Fizik', 'Kimya', 'Matematik', 'Fizik', 'Kimya',\n",
    "             'Matematik', 'Fizik'],\n",
    "    'Not': [90, 85, 95, 75, 80, 92, 87, 88, 93, 82, 79, 91, 86, 89, 78, 83, 94, 81, 84, 90]\n",
    "}\n",
    "\n",
    "df = pd.DataFrame(data)\n",
    "\n",
    "# Not sütununa göre büyükten küçüğe sıralama\n",
    "sirali_veri = df.sort_values(by='Not', ascending=False)\n",
    "print(\"Notlara Göre Sıralı Veri:\")\n",
    "print(sirali_veri)\n",
    "\n",
    "# Matematik dersine ait verileri filtreleme\n",
    "matematik_verileri = df[df['Ders'] == 'Matematik']\n",
    "print(\"Matematik Dersine Ait Veriler:\")\n",
    "print(matematik_verileri)\n",
    "\n",
    "# Notu 85'ten büyük olan öğrencileri filtreleme\n",
    "yüksek_notlar = df[df['Not'] > 85]\n",
    "print(\"85'ten Büyük Nota Sahip Öğrenciler:\")\n",
    "print(yüksek_notlar)\n"
   ]
  },
  {
   "cell_type": "markdown",
   "id": "6b8a9c02-6159-438c-b6e9-2e6215d6dfcf",
   "metadata": {},
   "source": [
    "Bu örnekteveri seti üzerinde notlara göre sıralama yaparak, belirli bir dersi filtreledik. Ayrıca belirli bir not eşiğini geçen öğrencileri filtreledik."
   ]
  },
  {
   "cell_type": "markdown",
   "id": "6a043d08-687b-4995-a2d1-e542a56f704d",
   "metadata": {},
   "source": [
    "## Veri çerçeveleri arasında birleştirme ve birleştirilmiş verilerle çalışma"
   ]
  },
  {
   "cell_type": "markdown",
   "id": "f0b6268c-3ee0-4db1-a928-c58196eed670",
   "metadata": {},
   "source": [
    "Veri çerçeveleri arasında birleştirme, farklı veri çerçevelerinde bulunan bilgilerin ortak bir anahtar üzerinde birleştirilerek tek bir veri çerçevesi oluşturulması işlemidir."
   ]
  },
  {
   "cell_type": "code",
   "execution_count": 26,
   "id": "b2bf800b-d052-4abf-ac4a-9cd073319087",
   "metadata": {},
   "outputs": [
    {
     "name": "stdout",
     "output_type": "stream",
     "text": [
      "Matematik Dersi Alan Öğrenciler:\n",
      "  Öğrenci       Ders  Not  Yaş Cinsiyet\n",
      "0     Ali  Matematik   90   18    Erkek\n",
      "3   Ahmet  Matematik   75   16    Erkek\n"
     ]
    }
   ],
   "source": [
    "import pandas as pd\n",
    "\n",
    "# İlk veri çerçevesi\n",
    "df1 = pd.DataFrame({'Öğrenci': ['Ali', 'Ayşe', 'Mehmet', 'Ahmet'],\n",
    "                    'Ders': ['Matematik', 'Fizik', 'Kimya', 'Matematik'],\n",
    "                    'Not': [90, 85, 95, 75]})\n",
    "\n",
    "# İkinci veri çerçevesi\n",
    "df2 = pd.DataFrame({'Öğrenci': ['Ali', 'Ayşe', 'Mehmet', 'Ahmet'],\n",
    "                    'Yaş': [18, 17, 19, 16],\n",
    "                    'Cinsiyet': ['Erkek', 'Kadın', 'Erkek', 'Erkek']})\n",
    "\n",
    "# Veri çerçevelerini birleştirme\n",
    "birlesik_df = pd.merge(df1, df2, on='Öğrenci')\n",
    "\n",
    "# Örneğin, Matematik dersini alan öğrencileri filtreleme\n",
    "matematik_dersi_alanlar = birlesik_df[birlesik_df['Ders'] == 'Matematik']\n",
    "print(\"Matematik Dersi Alan Öğrenciler:\")\n",
    "print(matematik_dersi_alanlar)"
   ]
  },
  {
   "cell_type": "markdown",
   "id": "ebd6c7c7-d9bf-447f-9b3e-2f7d485d2bc8",
   "metadata": {},
   "source": [
    "Bu örnekte, df1 ve df2 olarak adlandırılan iki farklıveri birleştirilmiştir. pd.merge() fonksiyonu kullanılarak, 'Öğrenci' sütunu üzerinden birleştirme işlemi gerçekleştirebiliriz. Bu birleştirilmiş verilerle birlesik_df üzerinde istenilen işlemler yapılabiliriz. Örneğin, 'Matematik' dersi alan öğrencileri filtrelemek için bir filtreleme işlemi yaptık."
   ]
  },
  {
   "cell_type": "markdown",
   "id": "a90bbae1-5290-41aa-a8e0-da5e5a763184",
   "metadata": {},
   "source": [
    "# Veri Görselleştirme"
   ]
  },
  {
   "cell_type": "markdown",
   "id": "e38b3eda-87e2-422a-860e-1958f3e5f51e",
   "metadata": {},
   "source": [
    "Pandas, verilerinizi görselleştirmek için çeşitli araçlar ve fonksiyonlar sunar. İşte pandas'ın bazı veri görselleştirme yetenekleri:"
   ]
  },
  {
   "cell_type": "markdown",
   "id": "88964c62-9405-4e86-a859-fbb2310361da",
   "metadata": {},
   "source": [
    "## Çizgi Grafiği (Line Plot):\n",
    "\n",
    "\n",
    "Line Plot, verileri bir çizgi üzerinde noktalarla temsil eden bir grafik türüdür. Bu grafik türü genellikle zamana bağlı değişimleri veya sürekli bir değişkenin eğilimini göstermek için kullanılır."
   ]
  },
  {
   "cell_type": "code",
   "execution_count": 3,
   "id": "5a812a36-ad42-49c1-acec-6df4ab09222b",
   "metadata": {},
   "outputs": [
    {
     "data": {
      "image/png": "[encoded data removed]",
      "text/plain": [
       "<Figure size 640x480 with 1 Axes>"
      ]
     },
     "metadata": {},
     "output_type": "display_data"
    }
   ],
   "source": [
    "import pandas as pd\n",
    "import matplotlib.pyplot as plt\n",
    "\n",
    "# Veri oluşturma\n",
    "x = [1, 2, 3, 4, 5]\n",
    "y = [10, 15, 7, 12, 9]\n",
    "\n",
    "# Veri çerçevesini oluşturma\n",
    "df = pd.DataFrame({'x': x, 'y': y})\n",
    "\n",
    "# Çizgi grafiği oluşturma\n",
    "df.plot(x='x', y='y', kind='line')\n",
    "\n",
    "# Grafik özelliklerini ayarlama\n",
    "plt.title('Çizgi Grafiği')\n",
    "plt.xlabel('x değerleri')\n",
    "plt.ylabel('y değerleri')\n",
    "\n",
    "# Grafiği gösterme\n",
    "plt.show()"
   ]
  },
  {
   "cell_type": "markdown",
   "id": "8392dbc1-9a56-4e66-bf5d-d8fe61de16a1",
   "metadata": {},
   "source": [
    "Bu örnekte, x ve y listelerinden bir veri çerçevesi oluşturur. Ardından, **plot()** fonksiyonu kullanılarak çizgi grafiği oluşturulur. x ve y parametreleri, hangi sütunların x ve y eksenlerinde kullanılacağını belirtir. **kind='line'** parametresi, çizgi grafiği oluşturmak için kullanılır.\n",
    "\n",
    "Grafik özelliklerini belirlemek için **plt.title()**, **plt.xlabel()** ve **plt.ylabel()** fonksiyonları kullanılır. Son olarak, **plt.show()** fonksiyonu ile grafiği görüntüleriz."
   ]
  },
  {
   "cell_type": "markdown",
   "id": "7d389055-6c58-4921-ab02-e0971e67693f",
   "metadata": {},
   "source": [
    "## Sütun Grafiği (Bar Plot):\n",
    "\n",
    "Sütun Grafiği veya Dikey Sütun Grafiği (Bar Plot veya Vertical Bar Plot), kategorik verilerin farklı gruplar veya kategoriler arasındaki karşılaştırmalarını göstermek için kullanılan bir grafik türüdür. Her kategori için dikey sütunlar kullanılarak verilerin görsel olarak temsili sağlanır.\n",
    "\n",
    "Sütun grafiği oluşturmak için pandas'ın plot.bar() fonksiyonunu kullanır:"
   ]
  },
  {
   "cell_type": "code",
   "execution_count": 16,
   "id": "38d1b666-3296-4d60-a3db-c7f572aa3ce7",
   "metadata": {},
   "outputs": [
    {
     "data": {
      "image/png": "[encoded data removed]",
      "text/plain": [
       "<Figure size 640x480 with 1 Axes>"
      ]
     },
     "metadata": {},
     "output_type": "display_data"
    }
   ],
   "source": [
    "import pandas as pd\n",
    "import matplotlib.pyplot as plt\n",
    "\n",
    "# Veri oluşturma\n",
    "categories = ['A', 'B', 'C', 'D']\n",
    "values = [20, 10, 15, 25]\n",
    "\n",
    "# Veri çerçevesini oluşturma\n",
    "df = pd.DataFrame({'Category': categories, 'Value': values})\n",
    "\n",
    "# Sütun grafiği oluşturma\n",
    "df.plot(x='Category', y='Value', kind='bar')\n",
    "\n",
    "# Grafik özelliklerini ayarlama\n",
    "plt.title('Sütun Grafiği')\n",
    "plt.xlabel('Category')\n",
    "plt.ylabel('Value')\n",
    "\n",
    "# Grafiği gösterme\n",
    "plt.show()\n"
   ]
  },
  {
   "cell_type": "markdown",
   "id": "33ecee62-e029-4c3f-891a-b463a34c8c7f",
   "metadata": {},
   "source": [
    "## Histogram:\n",
    "\n",
    "Histogram, sürekli bir değişkenin dağılımını göstermek için kullanılan bir grafik türüdür. Değişkenin değer aralıkları (bins) belirlenir ve her bir aralıkta kaç örnek olduğu görsel olarak temsil edilir. Histogram, veri dağılımının genel şeklini, merkezi eğilimini ve yayılımını görmek için kullanılır.\n",
    "\n",
    "Histogram grafiği oluşturmak için pandas'ın plot.hist() fonksiyonunu kullanır:"
   ]
  },
  {
   "cell_type": "code",
   "execution_count": 15,
   "id": "751b915b-3ab3-4cb5-b070-09933c1448af",
   "metadata": {},
   "outputs": [
    {
     "data": {
      "image/png": "[encoded data removed]",
      "text/plain": [
       "<Figure size 640x480 with 1 Axes>"
      ]
     },
     "metadata": {},
     "output_type": "display_data"
    }
   ],
   "source": [
    "import pandas as pd\n",
    "import matplotlib.pyplot as plt\n",
    "\n",
    "# Veri oluşturma\n",
    "data = [1, 1, 1, 2, 2, 3, 3, 3, 3, 4, 4, 5, 6, 6, 7, 7, 7, 8, 8, 8]\n",
    "\n",
    "# Veri çerçevesini oluşturma\n",
    "df = pd.DataFrame({'Data': data})\n",
    "\n",
    "# Histogram grafiği oluşturma\n",
    "df.plot.hist()\n",
    "\n",
    "# Grafik özelliklerini ayarlama\n",
    "plt.title('Histogram Grafiği')\n",
    "plt.xlabel('Data')\n",
    "plt.ylabel('Frequency')\n",
    "\n",
    "# Grafiği gösterme\n",
    "plt.show()\n"
   ]
  },
  {
   "cell_type": "markdown",
   "id": "4358b9f5-69d0-490a-8329-58be46e3be8f",
   "metadata": {},
   "source": [
    "## Nokta Grafiği (Scatter Plot):\n",
    "\n",
    "Nokta Grafiği veya Scatter Plot, iki sürekli değişken arasındaki ilişkiyi veya dağılımı görselleştirmek için kullanılan bir grafik türüdür. Her bir veri noktası, bir eksen üzerinde bir değişkenin değerini ve diğer eksen üzerinde ise diğer değişkenin değerini temsil eder. Scatter plotlar, değişkenler arasındaki ilişkiyi analiz etmek, korelasyonu görmek veya aykırı değerleri tespit etmek için kullanılır.\n",
    "\n",
    "Nokta grafiği oluşturmak için pandas'ın plot.scatter() fonksiyonunu kullanır:"
   ]
  },
  {
   "cell_type": "code",
   "execution_count": 17,
   "id": "dd641b30-ef0e-4589-bac9-4f0f940e0ad9",
   "metadata": {},
   "outputs": [
    {
     "data": {
      "image/png": "[encoded data removed]",
      "text/plain": [
       "<Figure size 640x480 with 1 Axes>"
      ]
     },
     "metadata": {},
     "output_type": "display_data"
    }
   ],
   "source": [
    "import pandas as pd\n",
    "import matplotlib.pyplot as plt\n",
    "\n",
    "# Veri oluşturma\n",
    "x = [1, 2, 3, 4, 5]\n",
    "y = [10, 15, 7, 12, 9]\n",
    "\n",
    "# Veri çerçevesini oluşturma\n",
    "df = pd.DataFrame({'x': x, 'y': y})\n",
    "\n",
    "# Nokta grafiği oluşturma\n",
    "df.plot.scatter(x='x', y='y')\n",
    "\n",
    "# Grafik özelliklerini ayarlama\n",
    "plt.title('Nokta Grafiği')\n",
    "plt.xlabel('x')\n",
    "plt.ylabel('y')\n",
    "\n",
    "# Grafiği gösterme\n",
    "plt.show()\n"
   ]
  },
  {
   "cell_type": "markdown",
   "id": "33f1816a-e3cd-4f4d-8e29-dda540487847",
   "metadata": {},
   "source": [
    "## Kutu Grafiği (Box Plot):\n",
    "\n",
    "Kutu Grafiği veya Kutu-Whisker Grafiği (Box Plot), verilerin merkezi eğilimini, yayılımını ve aykırı değerleri görselleştirmek için kullanılan bir grafik türüdür. Kutu grafiği, verilerin minimum, birinci çeyrek (Q1), medyan (Q2), üçüncü çeyrek (Q3) ve maksimum değerlerini temsil eden bir kutu ve bu kutunun üzerinde ve altında yer alan \"bıyıklar\" (whisker) ile gösterilir.\n",
    "\n",
    "Kutu grafiği oluşturmak için pandas'ın plot.box() fonksiyonunu kullanır:"
   ]
  },
  {
   "cell_type": "code",
   "execution_count": 18,
   "id": "f393dbcc-078e-470a-adfd-87cfea01a363",
   "metadata": {},
   "outputs": [
    {
     "data": {
      "image/png": "[encoded data removed]",
      "text/plain": [
       "<Figure size 640x480 with 1 Axes>"
      ]
     },
     "metadata": {},
     "output_type": "display_data"
    }
   ],
   "source": [
    "import pandas as pd\n",
    "import matplotlib.pyplot as plt\n",
    "\n",
    "# Veri oluşturma\n",
    "data = [10, 15, 20, 25, 30, 35, 40, 45, 50, 55]\n",
    "\n",
    "# Veri çerçevesini oluşturma\n",
    "df = pd.DataFrame({'Data': data})\n",
    "\n",
    "# Kutu grafiği oluşturma\n",
    "df.plot.box()\n",
    "\n",
    "# Grafik özelliklerini ayarlama\n",
    "plt.title('Kutu Grafiği')\n",
    "plt.ylabel('Data')\n",
    "\n",
    "# Grafiği gösterme\n",
    "plt.show()\n"
   ]
  },
  {
   "cell_type": "markdown",
   "id": "c746d18d-03bb-484d-870d-e62ccfcc8b7b",
   "metadata": {},
   "source": [
    "## Pasta Grafiği (Pie Chart):\n",
    "\n",
    "\n",
    "Pasta Grafiği veya Dilim Grafiği (Pie Chart), bir bütünün farklı parçalarının oranlarını görselleştirmek için kullanılan bir grafik türüdür. Pasta grafiği, verilerin yüzdesel dağılımını göstermek için kullanılır. Her bir veri noktası, bir dilim olarak temsil edilir ve tüm dilimlerin toplamı %100'e eşittir.\n",
    "\n",
    "Pasta grafiği oluşturmak için pandas'ın plot.pie() fonksiyonunu kullanır:"
   ]
  },
  {
   "cell_type": "code",
   "execution_count": 19,
   "id": "c5ba1fd2-2b54-4214-95ee-cde2e60453ce",
   "metadata": {},
   "outputs": [
    {
     "data": {
      "image/png": "[encoded data removed]",
      "text/plain": [
       "<Figure size 640x480 with 1 Axes>"
      ]
     },
     "metadata": {},
     "output_type": "display_data"
    }
   ],
   "source": [
    "import pandas as pd\n",
    "import matplotlib.pyplot as plt\n",
    "\n",
    "# Veri oluşturma\n",
    "sizes = [30, 25, 20, 15, 10]  # Dilim boyutları\n",
    "labels = ['A', 'B', 'C', 'D', 'E']  # Dilim etiketleri\n",
    "\n",
    "# Pasta grafiği oluşturma\n",
    "plt.pie(sizes, labels=labels)\n",
    "\n",
    "# Grafik özelliklerini ayarlama\n",
    "plt.title('Pasta Grafiği')\n",
    "\n",
    "# Grafiği gösterme\n",
    "plt.show()\n"
   ]
  },
  {
   "cell_type": "markdown",
   "id": "a3b56241-a0e9-445a-9081-70e9bedc6b43",
   "metadata": {},
   "source": [
    "## Alan Grafiği (Area Plot):\n",
    "\n",
    "Alan Grafiği veya Yüzey Grafiği (Area Plot), bir değişkenin zamana veya başka bir bağımsız değişkene bağlı olarak nasıl değiştiğini görselleştirmek için kullanılan bir grafik türüdür. Alan grafiği, değişkenin değerlerinin zaman veya başka bir eksen boyunca nasıl yayıldığını ve birbirini örttüğünü gösterir. Bu grafik türü, değişkenin toplamı veya yüzdesel katkıları gibi bir bütün içindeki bileşenlerin gösterimi için de kullanılabilir.\n",
    "\n",
    "Alan grafiği oluşturmak için pandas'ın plot.area() fonksiyonunu kullanır:"
   ]
  },
  {
   "cell_type": "code",
   "execution_count": 21,
   "id": "4c5524ac-8b0c-41c1-95a0-5a1d18bc822e",
   "metadata": {},
   "outputs": [
    {
     "data": {
      "image/png": "[encoded data removed]",
      "text/plain": [
       "<Figure size 640x480 with 1 Axes>"
      ]
     },
     "metadata": {},
     "output_type": "display_data"
    }
   ],
   "source": [
    "import pandas as pd\n",
    "import matplotlib.pyplot as plt\n",
    "\n",
    "# Veri oluşturma\n",
    "years = [2010, 2011, 2012, 2013, 2014]\n",
    "data1 = [10, 15, 12, 8, 20]\n",
    "data2 = [5, 8, 6, 10, 12]\n",
    "\n",
    "# Veri çerçevesini oluşturma\n",
    "df = pd.DataFrame({'Year': years, 'Data1': data1, 'Data2': data2})\n",
    "\n",
    "# Alan grafiği oluşturma\n",
    "df.plot.area(x='Year')\n",
    "\n",
    "# Grafik özelliklerini ayarlama\n",
    "plt.title('Alan Grafiği')\n",
    "plt.xlabel('Year')\n",
    "plt.ylabel('Value')\n",
    "\n",
    "# Grafiği gösterme\n",
    "plt.show()\n"
   ]
  },
  {
   "cell_type": "markdown",
   "id": "a657cae1-bfb7-4dc3-874e-b5e0a7199c71",
   "metadata": {},
   "source": [
    "## Yoğunluk Grafiği (Density Plot):\n",
    "\n",
    "Yoğunluk Grafiği veya Yoğunluk Kestirimi Grafiği (Density Plot), veri dağılımının genel şeklini ve yoğunluk tahminini görselleştirmek için kullanılan bir grafik türüdür. Yoğunluk grafiği, veri setinin olasılık yoğunluğunu yansıtan bir eğri şeklinde çizilir. Bu grafik, veri setinin dağılımını daha iyi anlamak ve olası tepe noktalarını veya yoğun bölgeleri belirlemek için kullanılır.\n",
    "\n",
    "Yoğunluk grafiği oluşturmak için seaborn kütüphanesini kullanır:"
   ]
  },
  {
   "cell_type": "code",
   "execution_count": 7,
   "id": "11356548-878e-4eba-8e18-20be5bec37b3",
   "metadata": {},
   "outputs": [
    {
     "data": {
      "image/png": "[encoded data removed]",
      "text/plain": [
       "<Figure size 640x480 with 1 Axes>"
      ]
     },
     "metadata": {},
     "output_type": "display_data"
    }
   ],
   "source": [
    "import pandas as pd\n",
    "import seaborn as sns\n",
    "import matplotlib.pyplot as plt\n",
    "\n",
    "\n",
    "# Veri oluşturma\n",
    "data = [10, 15, 20, 25, 30, 35, 40, 45, 50, 55]\n",
    "\n",
    "# Veri çerçevesini oluşturma\n",
    "df = pd.DataFrame({'Data': data})\n",
    "\n",
    "# Yoğunluk grafiği oluşturma\n",
    "sns.kdeplot(data=df['Data'].to_numpy())\n",
    "\n",
    "# Grafik özelliklerini ayarlama\n",
    "plt.title('Yoğunluk Grafiği')\n",
    "plt.xlabel('Değer')\n",
    "plt.ylabel('Yoğunluk')\n",
    "\n",
    "# Grafiği gösterme\n",
    "plt.show()\n"
   ]
  },
  {
   "cell_type": "markdown",
   "id": "2c5592fe-c95c-4b65-9316-ee03bc22b043",
   "metadata": {},
   "source": [
    "Bu kod, **data** listesinden bir veri seti oluşturur. Ardından, seaborn kütüphanesinin **kdeplot()** fonksiyonu kullanılarak yoğunluk grafiği oluşturulur."
   ]
  },
  {
   "cell_type": "markdown",
   "id": "de784fda-1e58-4300-91bf-b2a9a8dbecf5",
   "metadata": {},
   "source": [
    "# İleri Düzey Pandas"
   ]
  },
  {
   "cell_type": "markdown",
   "id": "e90813d3-863d-4c31-9369-a264e7c71868",
   "metadata": {},
   "source": [
    "## Zaman serileri analizi"
   ]
  },
  {
   "cell_type": "markdown",
   "id": "47b530e5-9e90-4bd3-a904-1a4f2c46755e",
   "metadata": {},
   "source": [
    "Zaman serileri analizi, zamanla değişen verilerin analiz ve tahminini içeren istatistiksel bir yöntemdir. Zaman serileri genellikle düzenli zaman aralıklarında ölçülen verilerdir ve önceki değerlerin gelecekteki değerleri tahmin etmek için kullanılabileceği bir yapıya sahiptir. Pandas kütüphanesi, zaman serileri analizi için bir dizi özel işlev ve veri yapısı sağlar."
   ]
  },
  {
   "cell_type": "code",
   "execution_count": 3,
   "id": "9317b9a7-bbe8-46ce-8678-5525edbf17dd",
   "metadata": {},
   "outputs": [
    {
     "data": {
      "image/png": "[encoded data removed]",
      "text/plain": [
       "<Figure size 640x480 with 1 Axes>"
      ]
     },
     "metadata": {},
     "output_type": "display_data"
    }
   ],
   "source": [
    "import pandas as pd\n",
    "import matplotlib.pyplot as plt\n",
    "\n",
    "# Zaman serisi veri setini oluşturalım\n",
    "data = {'Tarih': ['2021-01-01', '2021-01-02', '2021-01-03', '2021-01-04', '2021-01-05'],\n",
    "        'Değer': [10, 15, 12, 18, 20]}\n",
    "df = pd.DataFrame(data)\n",
    "\n",
    "# Tarih sütununu zaman formatına dönüştürelim\n",
    "df['Tarih'] = pd.to_datetime(df['Tarih'])\n",
    "\n",
    "# Tarih sütununu indeks olarak ayarlayalım\n",
    "df.set_index('Tarih', inplace=True)\n",
    "\n",
    "# Zaman serisi veriyi görselleştirelim\n",
    "df.plot()\n",
    "plt.xlabel('Tarih')\n",
    "plt.ylabel('Değer')\n",
    "plt.title('Zaman Serisi Veri')\n",
    "plt.show()\n"
   ]
  },
  {
   "cell_type": "markdown",
   "id": "0a5f1081-b8ac-49c1-be65-843fc0ffab06",
   "metadata": {},
   "source": [
    "Bu örnek kodda, bir zaman serisi veri seti oluşturuyoruz. Tarih sütununu **pd.to_datetime()** fonksiyonuyla zaman formatına dönüştürüyoruz. Ardından, **set_index()** fonksiyonunu kullanarak Tarih sütununu indeks olarak ayarlıyoruz. Daha sonra, **df.plot()** ile zaman serisi veriyi çiziyoruz ve **plt** kullanarak etiketleri ve başlığı ekliyoruz."
   ]
  },
  {
   "cell_type": "markdown",
   "id": "046aa83f-9d2f-4557-bafa-7dbb17a52336",
   "metadata": {},
   "source": [
    "## Çoklu indeksleme ve çok seviyeli veri çerçeveleri"
   ]
  },
  {
   "cell_type": "markdown",
   "id": "84962e8d-ad3c-4d6d-a3eb-25183ed68595",
   "metadata": {},
   "source": [
    "Çoklu indeksleme veya çok seviyeli indeksleme, veri çerçevelerinde birden fazla sütunu indeks olarak kullanma yöntemidir. Bu şekilde, verileri daha karmaşık bir yapıda organize etmek ve daha etkili bir şekilde işlem yapmak mümkün olur. Çok seviyeli veri çerçeveleri, genellikle hiyerarşik veya ilişkili veri yapılarını temsil etmek için kullanılır."
   ]
  },
  {
   "cell_type": "code",
   "execution_count": 4,
   "id": "5688e16b-d056-4790-8613-9d63e87f3764",
   "metadata": {},
   "outputs": [
    {
     "name": "stdout",
     "output_type": "stream",
     "text": [
      "                           Sıcaklık\n",
      "Şehir    Bölge   Mevsim            \n",
      "İstanbul Avrupa  Yaz             30\n",
      "                 Kış             10\n",
      "         Anadolu İlkbahar        20\n",
      "Ankara   Anadolu Kış              5\n",
      "         Avrupa  Yaz             25\n",
      "         Anadolu İlkbahar        15\n"
     ]
    }
   ],
   "source": [
    "import pandas as pd\n",
    "\n",
    "# Veri setini oluşturalım\n",
    "data = {'Şehir': ['İstanbul', 'İstanbul', 'İstanbul', 'Ankara', 'Ankara', 'Ankara'],\n",
    "        'Bölge': ['Avrupa', 'Avrupa', 'Anadolu', 'Anadolu', 'Avrupa', 'Anadolu'],\n",
    "        'Mevsim': ['Yaz', 'Kış', 'İlkbahar', 'Kış', 'Yaz', 'İlkbahar'],\n",
    "        'Sıcaklık': [30, 10, 20, 5, 25, 15]}\n",
    "df = pd.DataFrame(data)\n",
    "\n",
    "# Çoklu indeksleme için sütunları indeks olarak ayarlayalım\n",
    "df.set_index(['Şehir', 'Bölge', 'Mevsim'], inplace=True)\n",
    "\n",
    "# Çok seviyeli veri çerçevesini görüntüleyelim\n",
    "print(df)\n"
   ]
  },
  {
   "cell_type": "markdown",
   "id": "ce732458-a906-4c9f-b33b-8a42a31a5a68",
   "metadata": {},
   "source": [
    "## Büyük veri kümeleriyle çalışma için performans iyileştirmeleri"
   ]
  },
  {
   "cell_type": "markdown",
   "id": "be200fd1-27f1-4585-922c-19a412f4d9e9",
   "metadata": {},
   "source": [
    "**1. Veri Okuma ve Yazma Performansını İyileştirme:**\n",
    "- Daha hızlı veri formatları kullanabiliriz. Örneğin, Parquet veya Feather gibi optimize edilmiş dosya formatlarını tercih edebiliriz.\n",
    "- Veri kümesini paralel olarak okuyabiliriz. Örneğin, Dask veya Modin gibi araçları kullanarak verileri paralel olarak işleyebiliriz.\n",
    "- Veri kümesini parçalara bölebilir ve her bir parçayı ayrı ayrı işleyebiliriz. Bu, işlem süresini azaltabilir.\n",
    "\n",
    "**Bellek Kullanımını Optimizasyon:**\n",
    "- Gereksiz sütunları veya satırları atabiliriz. Bu şekilde bellek kullanımını azaltabiliriz.\n",
    "- Veri tiplerini optimize edebiliriz. Örneğin, daha küçük veri tiplerini kullanarak bellek alanından tasarruf sağlayabiliriz.\n",
    "\n",
    "**Paralel İşleme ve Dağıtık Hesaplama:**\n",
    "- Büyük veri kümelerini paralel olarak işleyebiliriz. Örneğin, Spark veya Hadoop gibi araçları kullanarak paralel hesaplama yapabiliriz.\n",
    "- Verileri birden çok makine veya küme üzerinde dağıtabiliriz. Bu şekilde işlem gücünü ölçeklendirebiliriz."
   ]
  },
  {
   "cell_type": "code",
   "execution_count": null,
   "id": "cfd4066c-0f8f-495e-8be1-dffe5ea3e952",
   "metadata": {},
   "outputs": [],
   "source": [
    "import pandas as pd\n",
    "import dask.dataframe as dd\n",
    "\n",
    "# Büyük bir CSV dosyasını okuma\n",
    "data = dd.read_csv('buyuk_veri.csv')\n",
    "\n",
    "# Gereksiz sütunları atma\n",
    "data = data.drop(columns=['gereksiz_sutun1', 'gereksiz_sutun2'])\n",
    "\n",
    "# Veri tiplerini optimize etme\n",
    "data['sutun1'] = data['sutun1'].astype('int32')\n",
    "\n",
    "# Paralel olarak veri işleme\n",
    "processed_data = data.apply(lambda x: x * 2, axis=1)\n",
    "\n",
    "# Sonucu dosyaya yazma\n",
    "processed_data.to_csv('sonuc.csv', single_file=True)"
   ]
  },
  {
   "cell_type": "markdown",
   "id": "78858c5b-1ac3-49a4-be8f-e2eeb2d2fdd7",
   "metadata": {},
   "source": [
    "Bu örnek kodda, dask.dataframe kütüphanesini kullanarak büyük bir CSV dosyasını paralel olarak okuyoruz. Ardından gereksiz sütunları atıyoruz ve veri tiplerini optimize ediyoruz. **apply**  fonksiyonunu kullanarak verileri paralel olarak işleyebiliriz. Sonuçları bir dosyaya yazabiliriz. Bu şekilde büyük veri kümeleriyle çalışırken performansı iyileştirmiş oluruz."
   ]
  }
 ],
 "metadata": {
  "kernelspec": {
   "display_name": "Python 3 (ipykernel)",
   "language": "python",
   "name": "python3"
  },
  "language_info": {
   "codemirror_mode": {
    "name": "ipython",
    "version": 3
   },
   "file_extension": ".py",
   "mimetype": "text/x-python",
   "name": "python",
   "nbconvert_exporter": "python",
   "pygments_lexer": "ipython3",
   "version": "3.8.8"
  }
 },
 "nbformat": 4,
 "nbformat_minor": 5
}
